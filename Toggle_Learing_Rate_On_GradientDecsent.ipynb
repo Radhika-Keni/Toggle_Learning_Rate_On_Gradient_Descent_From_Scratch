{
  "cells": [
    {
      "cell_type": "markdown",
      "metadata": {
        "id": "byKMPfb8U3u8"
      },
      "source": [
        "# Toggle_Learing_Rate_On_GradientDecsent\n",
        "\n",
        "\n"
      ]
    },
    {
      "cell_type": "markdown",
      "metadata": {
        "id": "6JFQGIY6U3vC"
      },
      "source": [
        "### PROLOGUE: \n",
        "This Note book build upon our previous notebook \"Vanilla Gradient Decsent From Scratch\" which is present in my repository and has extreme;y detailed comments. In this notebook ,we build on top of that notebook and try to toggle learning rate to observe its effects on convergence.We jump right into toggling learning rate , so if the reader needs more of a background , I would reccommend going through the previous notebook"
      ]
    },
    {
      "cell_type": "markdown",
      "metadata": {
        "id": "CS6_oX1Y3zKC"
      },
      "source": [
        "### PROJECT OBJECTIVE: \n",
        "To toggle learning rate Gradient Descent and observe \n"
      ]
    },
    {
      "cell_type": "markdown",
      "metadata": {
        "id": "1qqVfSfq_5sc"
      },
      "source": [
        "### CODE/SOLUTION SUMMARY\n",
        "- Toggle learning rate and log observations"
      ]
    },
    {
      "cell_type": "code",
      "execution_count": 68,
      "metadata": {
        "id": "Uowb8YX4U3vF"
      },
      "outputs": [],
      "source": [
        "# Import  libraries\n",
        "\n",
        "import matplotlib.pyplot as plt\n",
        "%matplotlib inline\n",
        "import pandas as pd\n",
        "import sys\n",
        "import numpy as np\n",
        "import seaborn as sns\n",
        "import statistics as stats\n",
        "sns.set(color_codes=True)\n",
        "from IPython.core.interactiveshell import InteractiveShell\n",
        "InteractiveShell.ast_node_interactivity = \"all\"\n",
        "#Last import allows multiple outputs from one cell\n",
        "import warnings\n",
        "# Initialize the random number generator\n",
        "import random\n",
        "random.seed(101)"
      ]
    },
    {
      "cell_type": "code",
      "execution_count": 69,
      "metadata": {
        "id": "dBurjaSqU3vF"
      },
      "outputs": [],
      "source": [
        "# Useful Configuration/Setting\n",
        "\n",
        "# suppress display of warnings\n",
        "warnings.filterwarnings('ignore')\n",
        "\n",
        "# display all dataframe columns\n",
        "pd.options.display.max_columns = None\n",
        "\n",
        "# to set the limit to 3 decimals\n",
        "pd.options.display.float_format = '{:.7f}'.format\n",
        "\n",
        "# display all dataframe rows\n",
        "pd.options.display.max_rows = None\n",
        "\n",
        "#Setting to shows all entries in array displayed\n",
        "np.set_printoptions(threshold=sys.maxsize)"
      ]
    },
    {
      "cell_type": "code",
      "source": [
        "# Lets create a  2 D data set manually\n",
        "\n",
        "X=np.arange(2,20,2)\n",
        "Y=2*X + 3"
      ],
      "metadata": {
        "id": "nWdktWFq85D6"
      },
      "execution_count": 70,
      "outputs": []
    },
    {
      "cell_type": "code",
      "source": [
        "X"
      ],
      "metadata": {
        "colab": {
          "base_uri": "https://localhost:8080/"
        },
        "id": "m1BORjKpe3pQ",
        "outputId": "05bc7e70-69de-4373-9436-9399d023c6ad"
      },
      "execution_count": 71,
      "outputs": [
        {
          "output_type": "execute_result",
          "data": {
            "text/plain": [
              "array([ 2,  4,  6,  8, 10, 12, 14, 16, 18])"
            ]
          },
          "metadata": {},
          "execution_count": 71
        }
      ]
    },
    {
      "cell_type": "code",
      "source": [
        "Y"
      ],
      "metadata": {
        "colab": {
          "base_uri": "https://localhost:8080/"
        },
        "id": "lCwTcHRQS0se",
        "outputId": "6abbd1b1-92d7-44e6-ae5a-4f43007d5447"
      },
      "execution_count": 72,
      "outputs": [
        {
          "output_type": "execute_result",
          "data": {
            "text/plain": [
              "array([ 7, 11, 15, 19, 23, 27, 31, 35, 39])"
            ]
          },
          "metadata": {},
          "execution_count": 72
        }
      ]
    },
    {
      "cell_type": "code",
      "source": [
        "# Lets visualize the Actual Data Set\n",
        "\n",
        "plt.scatter(x=X,y=Y)\n",
        "plt.plot(X,Y,c='b')\n",
        "plt.show()"
      ],
      "metadata": {
        "colab": {
          "base_uri": "https://localhost:8080/",
          "height": 285
        },
        "id": "MkVJUVu-I4TS",
        "outputId": "255ae4f9-02e8-4656-a7ba-137a1d7145c6"
      },
      "execution_count": 73,
      "outputs": [
        {
          "output_type": "execute_result",
          "data": {
            "text/plain": [
              "<matplotlib.collections.PathCollection at 0x7f94ec427f10>"
            ]
          },
          "metadata": {},
          "execution_count": 73
        },
        {
          "output_type": "execute_result",
          "data": {
            "text/plain": [
              "[<matplotlib.lines.Line2D at 0x7f94ec4393a0>]"
            ]
          },
          "metadata": {},
          "execution_count": 73
        },
        {
          "output_type": "display_data",
          "data": {
            "text/plain": [
              "<Figure size 432x288 with 1 Axes>"
            ],
            "image/png": "[encoded data removed]"
          },
          "metadata": {}
        }
      ]
    },
    {
      "cell_type": "code",
      "source": [
        "# Note :\n",
        "# Variables naming convention\n",
        "# We have used small letters for scalars and CAPS for Vectors"
      ],
      "metadata": {
        "id": "cArOCPopIYke"
      },
      "execution_count": 74,
      "outputs": []
    },
    {
      "cell_type": "code",
      "source": [
        "# Lets define our loss function \n",
        "\n",
        "def MSE(Y_True,Y_Pred):\n",
        "  loss=np.sum(np.square(Y_Pred-Y_True))/Y_True.shape[0]\n",
        "  return loss\n"
      ],
      "metadata": {
        "id": "YLfSUZlKzUS7"
      },
      "execution_count": 75,
      "outputs": []
    },
    {
      "cell_type": "code",
      "source": [
        "# Lets define our linear function\n",
        "def linearFunc(X,W):\n",
        "  Y=W[0]*X +  W[1]\n",
        "  return Y\n"
      ],
      "metadata": {
        "id": "gg7hJWkhHFly"
      },
      "execution_count": 76,
      "outputs": []
    },
    {
      "cell_type": "code",
      "source": [
        "# Start at a random weight\n",
        "W=np.ones(shape=2)\n",
        "W[0]=random.randint(5,10)\n",
        "W[1]=random.randint(5,10)"
      ],
      "metadata": {
        "id": "yo3eRcaII1vA"
      },
      "execution_count": 77,
      "outputs": []
    },
    {
      "cell_type": "code",
      "source": [
        "print(W[0])\n",
        "print(W[1])"
      ],
      "metadata": {
        "colab": {
          "base_uri": "https://localhost:8080/"
        },
        "id": "BrD3usdrPsu7",
        "outputId": "c8a60f05-1044-4062-b6bc-3ab1ce8d8f23"
      },
      "execution_count": 78,
      "outputs": [
        {
          "output_type": "stream",
          "name": "stdout",
          "text": [
            "9.0\n",
            "6.0\n"
          ]
        }
      ]
    },
    {
      "cell_type": "code",
      "source": [
        "# Now we have some random weights , lets visualize what the predicted line ...\n",
        "# ... looks like with these weights agianst the actual line"
      ],
      "metadata": {
        "id": "fB0oRE3xpwhU"
      },
      "execution_count": 79,
      "outputs": []
    },
    {
      "cell_type": "code",
      "source": [
        "# Lets see what the line looks like at this point\n",
        "plt.plot(X,linearFunc(X,W),c='r')# predicted line in red\n",
        "plt.plot(X,Y,c='b')# actual line in blue"
      ],
      "metadata": {
        "colab": {
          "base_uri": "https://localhost:8080/",
          "height": 285
        },
        "id": "nPRpca9TJ039",
        "outputId": "2f0af216-16bc-4d3f-9aea-cc2fb6f1fccf"
      },
      "execution_count": 80,
      "outputs": [
        {
          "output_type": "execute_result",
          "data": {
            "text/plain": [
              "[<matplotlib.lines.Line2D at 0x7f94ec8804c0>]"
            ]
          },
          "metadata": {},
          "execution_count": 80
        },
        {
          "output_type": "execute_result",
          "data": {
            "text/plain": [
              "[<matplotlib.lines.Line2D at 0x7f94ec805be0>]"
            ]
          },
          "metadata": {},
          "execution_count": 80
        },
        {
          "output_type": "display_data",
          "data": {
            "text/plain": [
              "<Figure size 432x288 with 1 Axes>"
            ],
            "image/png": "[encoded data removed]"
          },
          "metadata": {}
        }
      ]
    },
    {
      "cell_type": "code",
      "source": [
        "# We can see the predicted line and actual line in the above"
      ],
      "metadata": {
        "id": "7cY4LZA8Tix7"
      },
      "execution_count": 81,
      "outputs": []
    },
    {
      "cell_type": "markdown",
      "metadata": {
        "id": "-rffGHiKzKtR"
      },
      "source": [
        "##  Calculate Derivatives"
      ]
    },
    {
      "cell_type": "code",
      "source": [
        "# Lets write a func to calculate these gradients\n",
        "'''Make note that we will be calcuating gradient at different points on the loss function as we try to make ...\n",
        "our way to the minima for every combination of weighst(m & c) that we are at.\n",
        "Therefore the gradient function will take inputs as X(Input data points), Y(Actual Values), P(Predicted Values) and give us \n",
        "the corresponding gradients of 'm' and 'c' at that point '''\n",
        "\n",
        "def grad(X,Y,P):\n",
        "  '''Note here that we are going to realise this operation of calcuating gradient as one singly operation ...\n",
        "  insetad of doing seperately for m anc c. The final gradient will be a vector where one element corresponds to m ...\n",
        "  and one to c . So we will use the formula summation xi(y-yi) to calcuate both derivatives .Note only one of them had x into...\n",
        "  so just to make up for that we will add a dummy layer of 1's in the x part of that deriative which does not have x multiplied ...\n",
        "  with y-yi which for derivative of c because we canot do a multiplication op otherwise'''\n",
        "  \n",
        "  # add  a dummy layer of 1 's \n",
        "  X1=np.vstack((np.ones_like(X),X))\n",
        "\n",
        "  #calculate term in derivative which we will need later\n",
        "  E=P-Y\n",
        "\n",
        "  #calculate number of samples \n",
        "  N=np.shape(X)[0]\n",
        "\n",
        "  #Calculate gradient \n",
        "  G=-1/N*(X.dot(E))\n",
        "\n",
        "  return G"
      ],
      "metadata": {
        "id": "wWpj3Xi_03G9",
        "colab": {
          "base_uri": "https://localhost:8080/",
          "height": 87
        },
        "outputId": "04d67d12-c0f0-42d5-9827-7740e090291b"
      },
      "execution_count": 82,
      "outputs": [
        {
          "output_type": "execute_result",
          "data": {
            "text/plain": [
              "\"Make note that we will be calcuating gradient at different points on the loss function as we try to make ...\\nour way to the minima for every combination of weighst(m & c) that we are at.\\nTherefore the gradient function will take inputs as X(Input data points), Y(Actual Values), P(Predicted Values) and give us \\nthe corresponding gradients of 'm' and 'c' at that point \""
            ],
            "application/vnd.google.colaboratory.intrinsic+json": {
              "type": "string"
            }
          },
          "metadata": {},
          "execution_count": 82
        }
      ]
    },
    {
      "cell_type": "code",
      "source": [],
      "metadata": {
        "id": "ll2KKk2UngnN"
      },
      "execution_count": 82,
      "outputs": []
    },
    {
      "cell_type": "code",
      "source": [
        "# We have already assigned an arbitrary value for weights (aka m and c here)\n",
        "print('W',W)\n",
        "\n",
        "#Lets also re-print our X,Y\n",
        "print('X',X) # input values\n",
        "print('Y',Y) # Actual Output\n",
        "\n",
        "#Alrighty, we are all set to proceed"
      ],
      "metadata": {
        "colab": {
          "base_uri": "https://localhost:8080/"
        },
        "id": "gUSGgX4tdKgW",
        "outputId": "fbd00403-1f61-4ecd-e47d-5a583c9cb0b7"
      },
      "execution_count": 83,
      "outputs": [
        {
          "output_type": "stream",
          "name": "stdout",
          "text": [
            "W [9. 6.]\n",
            "X [ 2  4  6  8 10 12 14 16 18]\n",
            "Y [ 7 11 15 19 23 27 31 35 39]\n"
          ]
        }
      ]
    },
    {
      "cell_type": "code",
      "source": [
        "W_Copy=W.copy()"
      ],
      "metadata": {
        "id": "AkQOytKYpGSD"
      },
      "execution_count": 84,
      "outputs": []
    },
    {
      "cell_type": "markdown",
      "metadata": {
        "id": "F2gia3EDpG0i"
      },
      "source": [
        "##  Implement Gradient Descent with LR 0.001"
      ]
    },
    {
      "cell_type": "code",
      "source": [
        "# We have already assigned an arbitrary value for weights (aka m and c here)\n",
        "print('W',W)\n",
        "\n",
        "#Lets also re-print our X,Y\n",
        "print('X',X) # input values\n",
        "print('Y',Y) # Actual Output\n",
        "\n",
        "#Alrighty, we are all set to proceed"
      ],
      "metadata": {
        "colab": {
          "base_uri": "https://localhost:8080/"
        },
        "outputId": "726bee3e-8c31-48c4-ec22-0ff84b9e6a9e",
        "id": "Ywbh9T9opG0j"
      },
      "execution_count": 85,
      "outputs": [
        {
          "output_type": "stream",
          "name": "stdout",
          "text": [
            "W [9. 6.]\n",
            "X [ 2  4  6  8 10 12 14 16 18]\n",
            "Y [ 7 11 15 19 23 27 31 35 39]\n"
          ]
        }
      ]
    },
    {
      "cell_type": "code",
      "source": [
        "# Lets use LR as 0.0001\n",
        "lr=0.001\n",
        "totalIterCount=100 # Total no of iterations allowed\n",
        "itercount=0 #Current iteration number\n",
        "lossThresh=0.05\n",
        "deltaLoss=5  # Intially we set an arbitrary value greater than lossThresh\n",
        "P=linearFunc(X,W)\n",
        "initLoss=MSE(Y,P) # This is loss with current weights\n",
        "\n",
        "# Lets plot the actual line and initial line \n",
        "plt.plot(X,linearFunc(X,W),c='r')# starting line in red\n",
        "plt.plot(X,Y,c='b')# actual line in blue\n",
        "\n",
        "\n",
        "# We will now do multiple iterations\n",
        "# Stopping condition ? Either max iterations are reached or the loss is not reducing beyond a fixed threshold\n",
        "\n",
        "while(True):\n",
        "  if(itercount>=200):\n",
        "    break\n",
        "  if(deltaLoss <= lossThresh):\n",
        "    break\n",
        "  else:\n",
        "    gradient=grad(X,Y,P)  #Calculate the gradient at this point\n",
        "    W=W + lr*gradient\n",
        "    P=linearFunc(X,W)     #Prediction with current weights\n",
        "    currLoss=MSE(Y,P)     #Lets update the weights \n",
        "    print('currLoss',currLoss)\n",
        "    deltaLoss=initLoss-currLoss  # Calculate diff in loss\n",
        "    print('deltaLoss',deltaLoss)\n",
        "    print('weightUpdate',lr*gradient)\n",
        "    initLoss=currLoss\n",
        "    itercount=itercount+1\n",
        "    plt.plot(X,linearFunc(X,W),c='g')#  line after one iteration in green\n",
        "\n"
      ],
      "metadata": {
        "colab": {
          "base_uri": "https://localhost:8080/",
          "height": 1000
        },
        "id": "sdCwImqopG0l",
        "outputId": "4ca2765b-4168-4da3-be7e-b707dd90c8ce"
      },
      "execution_count": 86,
      "outputs": [
        {
          "output_type": "execute_result",
          "data": {
            "text/plain": [
              "[<matplotlib.lines.Line2D at 0x7f94ec4dc640>]"
            ]
          },
          "metadata": {},
          "execution_count": 86
        },
        {
          "output_type": "execute_result",
          "data": {
            "text/plain": [
              "[<matplotlib.lines.Line2D at 0x7f94ec4dcfd0>]"
            ]
          },
          "metadata": {},
          "execution_count": 86
        },
        {
          "output_type": "stream",
          "name": "stdout",
          "text": [
            "currLoss 4945.358796296297\n",
            "deltaLoss 1690.3078703703695\n",
            "weightUpdate -0.9166666666666666\n"
          ]
        },
        {
          "output_type": "execute_result",
          "data": {
            "text/plain": [
              "[<matplotlib.lines.Line2D at 0x7f94ec4be9a0>]"
            ]
          },
          "metadata": {},
          "execution_count": 86
        },
        {
          "output_type": "stream",
          "name": "stdout",
          "text": [
            "currLoss 3685.6660453446507\n",
            "deltaLoss 1259.6927509516468\n",
            "weightUpdate -0.7913888888888888\n"
          ]
        },
        {
          "output_type": "execute_result",
          "data": {
            "text/plain": [
              "[<matplotlib.lines.Line2D at 0x7f94ec4ad700>]"
            ]
          },
          "metadata": {},
          "execution_count": 86
        },
        {
          "output_type": "stream",
          "name": "stdout",
          "text": [
            "currLoss 2746.9068079628155\n",
            "deltaLoss 938.7592373818352\n",
            "weightUpdate -0.6832324074074074\n"
          ]
        },
        {
          "output_type": "execute_result",
          "data": {
            "text/plain": [
              "[<matplotlib.lines.Line2D at 0x7f94ec4691f0>]"
            ]
          },
          "metadata": {},
          "execution_count": 86
        },
        {
          "output_type": "stream",
          "name": "stdout",
          "text": [
            "currLoss 2047.333661935863\n",
            "deltaLoss 699.5731460269526\n",
            "weightUpdate -0.5898573117283951\n"
          ]
        },
        {
          "output_type": "execute_result",
          "data": {
            "text/plain": [
              "[<matplotlib.lines.Line2D at 0x7f94ec469760>]"
            ]
          },
          "metadata": {},
          "execution_count": 86
        },
        {
          "output_type": "stream",
          "name": "stdout",
          "text": [
            "currLoss 1526.0193426710325\n",
            "deltaLoss 521.3143192648304\n",
            "weightUpdate -0.5092434791255144\n"
          ]
        },
        {
          "output_type": "execute_result",
          "data": {
            "text/plain": [
              "[<matplotlib.lines.Line2D at 0x7f94ec4646d0>]"
            ]
          },
          "metadata": {},
          "execution_count": 86
        },
        {
          "output_type": "stream",
          "name": "stdout",
          "text": [
            "currLoss 1137.5544023299867\n",
            "deltaLoss 388.4649403410458\n",
            "weightUpdate -0.43964687031169414\n"
          ]
        },
        {
          "output_type": "execute_result",
          "data": {
            "text/plain": [
              "[<matplotlib.lines.Line2D at 0x7f94ec464d60>]"
            ]
          },
          "metadata": {},
          "execution_count": 86
        },
        {
          "output_type": "stream",
          "name": "stdout",
          "text": [
            "currLoss 848.0951903689262\n",
            "deltaLoss 289.45921196106053\n",
            "weightUpdate -0.37956179803576257\n"
          ]
        },
        {
          "output_type": "execute_result",
          "data": {
            "text/plain": [
              "[<matplotlib.lines.Line2D at 0x7f94ec3ecf40>]"
            ]
          },
          "metadata": {},
          "execution_count": 86
        },
        {
          "output_type": "stream",
          "name": "stdout",
          "text": [
            "currLoss 632.418281688975\n",
            "deltaLoss 215.67690867995123\n",
            "weightUpdate -0.32768835230420834\n"
          ]
        },
        {
          "output_type": "execute_result",
          "data": {
            "text/plain": [
              "[<matplotlib.lines.Line2D at 0x7f94ec44ccd0>]"
            ]
          },
          "metadata": {},
          "execution_count": 86
        },
        {
          "output_type": "stream",
          "name": "stdout",
          "text": [
            "currLoss 471.7250489219523\n",
            "deltaLoss 160.69323276702266\n",
            "weightUpdate -0.28290427748929986\n"
          ]
        },
        {
          "output_type": "execute_result",
          "data": {
            "text/plain": [
              "[<matplotlib.lines.Line2D at 0x7f94ec895dc0>]"
            ]
          },
          "metadata": {},
          "execution_count": 86
        },
        {
          "output_type": "stream",
          "name": "stdout",
          "text": [
            "currLoss 352.00534530038584\n",
            "deltaLoss 119.71970362156645\n",
            "weightUpdate -0.24424069289909547\n"
          ]
        },
        {
          "output_type": "execute_result",
          "data": {
            "text/plain": [
              "[<matplotlib.lines.Line2D at 0x7f94ec856eb0>]"
            ]
          },
          "metadata": {},
          "execution_count": 86
        },
        {
          "output_type": "stream",
          "name": "stdout",
          "text": [
            "currLoss 262.8179130235772\n",
            "deltaLoss 89.18743227680864\n",
            "weightUpdate -0.2108611315362191\n"
          ]
        },
        {
          "output_type": "execute_result",
          "data": {
            "text/plain": [
              "[<matplotlib.lines.Line2D at 0x7f94ecaac310>]"
            ]
          },
          "metadata": {},
          "execution_count": 86
        },
        {
          "output_type": "stream",
          "name": "stdout",
          "text": [
            "currLoss 196.38139179641846\n",
            "deltaLoss 66.43652122715875\n",
            "weightUpdate -0.1820434435596025\n"
          ]
        },
        {
          "output_type": "execute_result",
          "data": {
            "text/plain": [
              "[<matplotlib.lines.Line2D at 0x7f94ec4a7760>]"
            ]
          },
          "metadata": {},
          "execution_count": 86
        },
        {
          "output_type": "stream",
          "name": "stdout",
          "text": [
            "currLoss 146.89682814843428\n",
            "deltaLoss 49.484563647984174\n",
            "weightUpdate -0.15716417293979013\n"
          ]
        },
        {
          "output_type": "execute_result",
          "data": {
            "text/plain": [
              "[<matplotlib.lines.Line2D at 0x7f94eca3ef10>]"
            ]
          },
          "metadata": {},
          "execution_count": 86
        },
        {
          "output_type": "stream",
          "name": "stdout",
          "text": [
            "currLoss 110.04272969577002\n",
            "deltaLoss 36.85409845266426\n",
            "weightUpdate -0.13568506930468546\n"
          ]
        },
        {
          "output_type": "execute_result",
          "data": {
            "text/plain": [
              "[<matplotlib.lines.Line2D at 0x7f94ec952a00>]"
            ]
          },
          "metadata": {},
          "execution_count": 86
        },
        {
          "output_type": "stream",
          "name": "stdout",
          "text": [
            "currLoss 82.59872233361028\n",
            "deltaLoss 27.444007362159738\n",
            "weightUpdate -0.11714144316637844\n"
          ]
        },
        {
          "output_type": "execute_result",
          "data": {
            "text/plain": [
              "[<matplotlib.lines.Line2D at 0x7f94ec952640>]"
            ]
          },
          "metadata": {},
          "execution_count": 86
        },
        {
          "output_type": "stream",
          "name": "stdout",
          "text": [
            "currLoss 62.16505876362026\n",
            "deltaLoss 20.433663569990024\n",
            "weightUpdate -0.1011321126003067\n"
          ]
        },
        {
          "output_type": "execute_result",
          "data": {
            "text/plain": [
              "[<matplotlib.lines.Line2D at 0x7f94ec859670>]"
            ]
          },
          "metadata": {},
          "execution_count": 86
        },
        {
          "output_type": "stream",
          "name": "stdout",
          "text": [
            "currLoss 46.95356742984197\n",
            "deltaLoss 15.21149133377829\n",
            "weightUpdate -0.08731072387826481\n"
          ]
        },
        {
          "output_type": "execute_result",
          "data": {
            "text/plain": [
              "[<matplotlib.lines.Line2D at 0x7f94ec8595e0>]"
            ]
          },
          "metadata": {},
          "execution_count": 86
        },
        {
          "output_type": "stream",
          "name": "stdout",
          "text": [
            "currLoss 35.6318475675956\n",
            "deltaLoss 11.321719862246368\n",
            "weightUpdate -0.07537825828156859\n"
          ]
        },
        {
          "output_type": "execute_result",
          "data": {
            "text/plain": [
              "[<matplotlib.lines.Line2D at 0x7f94eca369a0>]"
            ]
          },
          "metadata": {},
          "execution_count": 86
        },
        {
          "output_type": "stream",
          "name": "stdout",
          "text": [
            "currLoss 27.207149566817016\n",
            "deltaLoss 8.424698000778584\n",
            "weightUpdate -0.06507656298308755\n"
          ]
        },
        {
          "output_type": "execute_result",
          "data": {
            "text/plain": [
              "[<matplotlib.lines.Line2D at 0x7f94ec99cbb0>]"
            ]
          },
          "metadata": {},
          "execution_count": 86
        },
        {
          "output_type": "stream",
          "name": "stdout",
          "text": [
            "currLoss 20.939833372570135\n",
            "deltaLoss 6.267316194246881\n",
            "weightUpdate -0.05618276604206557\n"
          ]
        },
        {
          "output_type": "execute_result",
          "data": {
            "text/plain": [
              "[<matplotlib.lines.Line2D at 0x7f94ec9991f0>]"
            ]
          },
          "metadata": {},
          "execution_count": 86
        },
        {
          "output_type": "stream",
          "name": "stdout",
          "text": [
            "currLoss 16.27887168261056\n",
            "deltaLoss 4.660961689959574\n",
            "weightUpdate -0.048504454682983304\n"
          ]
        },
        {
          "output_type": "execute_result",
          "data": {
            "text/plain": [
              "[<matplotlib.lines.Line2D at 0x7f94ec9991c0>]"
            ]
          },
          "metadata": {},
          "execution_count": 86
        },
        {
          "output_type": "stream",
          "name": "stdout",
          "text": [
            "currLoss 12.813783223906603\n",
            "deltaLoss 3.465088458703958\n",
            "weightUpdate -0.04187551254297559\n"
          ]
        },
        {
          "output_type": "execute_result",
          "data": {
            "text/plain": [
              "[<matplotlib.lines.Line2D at 0x7f94feb20fa0>]"
            ]
          },
          "metadata": {},
          "execution_count": 86
        },
        {
          "output_type": "stream",
          "name": "stdout",
          "text": [
            "currLoss 10.238811330546538\n",
            "deltaLoss 2.5749718933600647\n",
            "weightUpdate -0.03615252582876889\n"
          ]
        },
        {
          "output_type": "execute_result",
          "data": {
            "text/plain": [
              "[<matplotlib.lines.Line2D at 0x7f94ec453ee0>]"
            ]
          },
          "metadata": {},
          "execution_count": 86
        },
        {
          "output_type": "stream",
          "name": "stdout",
          "text": [
            "currLoss 8.326228827098225\n",
            "deltaLoss 1.9125825034483128\n",
            "weightUpdate -0.031211680632170478\n"
          ]
        },
        {
          "output_type": "execute_result",
          "data": {
            "text/plain": [
              "[<matplotlib.lines.Line2D at 0x7f94ec45de80>]"
            ]
          },
          "metadata": {},
          "execution_count": 86
        },
        {
          "output_type": "stream",
          "name": "stdout",
          "text": [
            "currLoss 6.906444581590896\n",
            "deltaLoss 1.419784245507329\n",
            "weightUpdate -0.026946084279107184\n"
          ]
        },
        {
          "output_type": "execute_result",
          "data": {
            "text/plain": [
              "[<matplotlib.lines.Line2D at 0x7f94ec45d6d0>]"
            ]
          },
          "metadata": {},
          "execution_count": 86
        },
        {
          "output_type": "stream",
          "name": "stdout",
          "text": [
            "currLoss 5.853179151814625\n",
            "deltaLoss 1.0532654297762711\n",
            "weightUpdate -0.023263452760962495\n"
          ]
        },
        {
          "output_type": "execute_result",
          "data": {
            "text/plain": [
              "[<matplotlib.lines.Line2D at 0x7f94ec45d790>]"
            ]
          },
          "metadata": {},
          "execution_count": 86
        },
        {
          "output_type": "stream",
          "name": "stdout",
          "text": [
            "currLoss 5.072418226238444\n",
            "deltaLoss 0.7807609255761809\n",
            "weightUpdate -0.0200841142169643\n"
          ]
        },
        {
          "output_type": "execute_result",
          "data": {
            "text/plain": [
              "[<matplotlib.lines.Line2D at 0x7f94ec3ee040>]"
            ]
          },
          "metadata": {},
          "execution_count": 86
        },
        {
          "output_type": "stream",
          "name": "stdout",
          "text": [
            "currLoss 4.494181455446032\n",
            "deltaLoss 0.5782367707924116\n",
            "weightUpdate -0.017339285273979207\n"
          ]
        },
        {
          "output_type": "execute_result",
          "data": {
            "text/plain": [
              "[<matplotlib.lines.Line2D at 0x7f94ec3ee3a0>]"
            ]
          },
          "metadata": {},
          "execution_count": 86
        },
        {
          "output_type": "stream",
          "name": "stdout",
          "text": [
            "currLoss 4.066389401792447\n",
            "deltaLoss 0.42779205365358486\n",
            "weightUpdate -0.014969582953202016\n"
          ]
        },
        {
          "output_type": "execute_result",
          "data": {
            "text/plain": [
              "[<matplotlib.lines.Line2D at 0x7f94ec3ee880>]"
            ]
          },
          "metadata": {},
          "execution_count": 86
        },
        {
          "output_type": "stream",
          "name": "stdout",
          "text": [
            "currLoss 3.7502940357468373\n",
            "deltaLoss 0.31609536604561006\n",
            "weightUpdate -0.012923739949597769\n"
          ]
        },
        {
          "output_type": "execute_result",
          "data": {
            "text/plain": [
              "[<matplotlib.lines.Line2D at 0x7f94ec3eebe0>]"
            ]
          },
          "metadata": {},
          "execution_count": 86
        },
        {
          "output_type": "stream",
          "name": "stdout",
          "text": [
            "currLoss 3.517074376454611\n",
            "deltaLoss 0.2332196592922262\n",
            "weightUpdate -0.011157495489819383\n"
          ]
        },
        {
          "output_type": "execute_result",
          "data": {
            "text/plain": [
              "[<matplotlib.lines.Line2D at 0x7f94ec3f6850>]"
            ]
          },
          "metadata": {},
          "execution_count": 86
        },
        {
          "output_type": "stream",
          "name": "stdout",
          "text": [
            "currLoss 3.3453003617908044\n",
            "deltaLoss 0.1717740146638067\n",
            "weightUpdate -0.009632637772877418\n"
          ]
        },
        {
          "output_type": "execute_result",
          "data": {
            "text/plain": [
              "[<matplotlib.lines.Line2D at 0x7f94ec3f6a30>]"
            ]
          },
          "metadata": {},
          "execution_count": 86
        },
        {
          "output_type": "stream",
          "name": "stdout",
          "text": [
            "currLoss 3.2190436720803604\n",
            "deltaLoss 0.12625668971044401\n",
            "weightUpdate -0.008316177277250847\n"
          ]
        },
        {
          "output_type": "execute_result",
          "data": {
            "text/plain": [
              "[<matplotlib.lines.Line2D at 0x7f94ec3f61f0>]"
            ]
          },
          "metadata": {},
          "execution_count": 86
        },
        {
          "output_type": "stream",
          "name": "stdout",
          "text": [
            "currLoss 3.1264706048812667\n",
            "deltaLoss 0.09257306719909364\n",
            "weightUpdate -0.007179633049359893\n"
          ]
        },
        {
          "output_type": "execute_result",
          "data": {
            "text/plain": [
              "[<matplotlib.lines.Line2D at 0x7f94ec3f6310>]"
            ]
          },
          "metadata": {},
          "execution_count": 86
        },
        {
          "output_type": "stream",
          "name": "stdout",
          "text": [
            "currLoss 3.0587941123995304\n",
            "deltaLoss 0.06767649248173635\n",
            "weightUpdate -0.006198416532614044\n"
          ]
        },
        {
          "output_type": "execute_result",
          "data": {
            "text/plain": [
              "[<matplotlib.lines.Line2D at 0x7f94ec3f6fa0>]"
            ]
          },
          "metadata": {},
          "execution_count": 86
        },
        {
          "output_type": "stream",
          "name": "stdout",
          "text": [
            "currLoss 3.0094934252914958\n",
            "deltaLoss 0.04930068710803459\n",
            "weightUpdate -0.005351299606490113\n"
          ]
        },
        {
          "output_type": "execute_result",
          "data": {
            "text/plain": [
              "[<matplotlib.lines.Line2D at 0x7f94ec34c490>]"
            ]
          },
          "metadata": {},
          "execution_count": 86
        },
        {
          "output_type": "display_data",
          "data": {
            "text/plain": [
              "<Figure size 432x288 with 1 Axes>"
            ],
            "image/png": "[encoded data removed]"
          },
          "metadata": {}
        }
      ]
    },
    {
      "cell_type": "markdown",
      "metadata": {
        "id": "IPi2sxgYIQYk"
      },
      "source": [
        "##  Result with LR 0.001\n"
      ]
    },
    {
      "cell_type": "code",
      "source": [
        "currLoss"
      ],
      "metadata": {
        "id": "5Z2VLONwVRri",
        "colab": {
          "base_uri": "https://localhost:8080/"
        },
        "outputId": "09b837e2-9b7d-42f2-9625-f22bae8e3500"
      },
      "execution_count": 87,
      "outputs": [
        {
          "output_type": "execute_result",
          "data": {
            "text/plain": [
              "3.0094934252914958"
            ]
          },
          "metadata": {},
          "execution_count": 87
        }
      ]
    },
    {
      "cell_type": "code",
      "source": [
        "deltaLoss"
      ],
      "metadata": {
        "id": "xlG2Tw8bQBR3",
        "colab": {
          "base_uri": "https://localhost:8080/"
        },
        "outputId": "f694daca-2a0c-40c3-9a86-f6150be76f9d"
      },
      "execution_count": 88,
      "outputs": [
        {
          "output_type": "execute_result",
          "data": {
            "text/plain": [
              "0.04930068710803459"
            ]
          },
          "metadata": {},
          "execution_count": 88
        }
      ]
    },
    {
      "cell_type": "code",
      "source": [
        "itercount"
      ],
      "metadata": {
        "id": "vRc0BjgEQFAr",
        "colab": {
          "base_uri": "https://localhost:8080/"
        },
        "outputId": "cf5f43fd-5829-4f57-e9da-65bd0b686b9e"
      },
      "execution_count": 89,
      "outputs": [
        {
          "output_type": "execute_result",
          "data": {
            "text/plain": [
              "36"
            ]
          },
          "metadata": {},
          "execution_count": 89
        }
      ]
    },
    {
      "cell_type": "code",
      "source": [
        "W"
      ],
      "metadata": {
        "id": "d81pS-J8VQV6",
        "colab": {
          "base_uri": "https://localhost:8080/"
        },
        "outputId": "d7d16ac2-677b-4036-8f03-1986913e5548"
      },
      "execution_count": 90,
      "outputs": [
        {
          "output_type": "execute_result",
          "data": {
            "text/plain": [
              "array([ 2.32648748, -0.67351252])"
            ]
          },
          "metadata": {},
          "execution_count": 90
        }
      ]
    },
    {
      "cell_type": "markdown",
      "source": [
        "- As can be seen in the graph above , the gradient descent algorithm was able to reach the best fit line through an iterative process\n",
        "- Each green line indicates one iteration\n",
        "- Vanilla Gradient descent took 36 iterations to reach the best fit line i.e minima of the loss curve\n",
        "- This is the result when we set LR as 0.001 which is an optimum value"
      ],
      "metadata": {
        "id": "ereQg7GT8BYC"
      }
    },
    {
      "cell_type": "markdown",
      "metadata": {
        "id": "jE4Sa2QSybir"
      },
      "source": [
        "##  Implement Gradient Descent with LR 0.1"
      ]
    },
    {
      "cell_type": "code",
      "source": [
        "# Update the W back to the original\n",
        "W=W_Copy.copy()"
      ],
      "metadata": {
        "id": "QjeACeOx8F-6"
      },
      "execution_count": 91,
      "outputs": []
    },
    {
      "cell_type": "code",
      "source": [
        "# We have already assigned an arbitrary value for weights (aka m and c here)\n",
        "print('W',W)\n",
        "\n",
        "#Lets also re-print our X,Y\n",
        "print('X',X) # input values\n",
        "print('Y',Y) # Actual Output\n",
        "\n",
        "#Alrighty, we are all set to proceed"
      ],
      "metadata": {
        "id": "TWp0wQQWybis",
        "colab": {
          "base_uri": "https://localhost:8080/"
        },
        "outputId": "e937b2d4-4441-4b0d-ce4c-00ae25682f5d"
      },
      "execution_count": 92,
      "outputs": [
        {
          "output_type": "stream",
          "name": "stdout",
          "text": [
            "W [9. 6.]\n",
            "X [ 2  4  6  8 10 12 14 16 18]\n",
            "Y [ 7 11 15 19 23 27 31 35 39]\n"
          ]
        }
      ]
    },
    {
      "cell_type": "code",
      "source": [
        "# Lets use LR as 0.1\n",
        "lr=0.1\n",
        "totalIterCount=100 # Total no of iterations allowed\n",
        "itercount=0 #Current iteration number\n",
        "lossThresh=0.05\n",
        "deltaLoss=5  # Intially we set an arbitrary value greater than lossThresh\n",
        "P=linearFunc(X,W)\n",
        "initLoss=MSE(Y,P) # This is loss with current weights\n",
        "\n",
        "# Lets plot the actual line and initial line \n",
        "plt.plot(X,linearFunc(X,W),c='r')# starting line in red\n",
        "plt.plot(X,Y,c='b')# actual line in blue\n",
        "\n",
        "\n",
        "# We will now do multiple iterations\n",
        "# Stopping condition ? Either max iterations are reached or the loss is not reducing beyond a fixed threshold\n",
        "\n",
        "while(True):\n",
        "  if(itercount>=200):\n",
        "    break\n",
        "  if(deltaLoss <= lossThresh):\n",
        "    break\n",
        "  else:\n",
        "    gradient=grad(X,Y,P)  #Calculate the gradient at this point\n",
        "    W=W + lr*gradient\n",
        "    P=linearFunc(X,W)     #Prediction with current weights\n",
        "    currLoss=MSE(Y,P)     #Lets update the weights \n",
        "    print('currLoss',currLoss)\n",
        "    deltaLoss=initLoss-currLoss  # Calculate diff in loss\n",
        "    print('deltaLoss',deltaLoss)\n",
        "    print('weightUpdate',lr*gradient)\n",
        "    initLoss=currLoss\n",
        "    itercount=itercount+1\n",
        "    plt.plot(X,linearFunc(X,W),c='g')#  line after one iteration in green\n",
        "\n"
      ],
      "metadata": {
        "id": "hu-zHBjLybiu",
        "colab": {
          "base_uri": "https://localhost:8080/",
          "height": 340
        },
        "outputId": "002494b6-7b8d-4ca1-ba8a-f939c8035986"
      },
      "execution_count": 93,
      "outputs": [
        {
          "output_type": "execute_result",
          "data": {
            "text/plain": [
              "[<matplotlib.lines.Line2D at 0x7f94ec2a96a0>]"
            ]
          },
          "metadata": {},
          "execution_count": 93
        },
        {
          "output_type": "execute_result",
          "data": {
            "text/plain": [
              "[<matplotlib.lines.Line2D at 0x7f94ec2a9b50>]"
            ]
          },
          "metadata": {},
          "execution_count": 93
        },
        {
          "output_type": "stream",
          "name": "stdout",
          "text": [
            "currLoss 1066006.9629629632\n",
            "deltaLoss -1059371.2962962964\n",
            "weightUpdate -91.66666666666667\n"
          ]
        },
        {
          "output_type": "execute_result",
          "data": {
            "text/plain": [
              "[<matplotlib.lines.Line2D at 0x7f94ec2bb040>]"
            ]
          },
          "metadata": {},
          "execution_count": 93
        },
        {
          "output_type": "display_data",
          "data": {
            "text/plain": [
              "<Figure size 432x288 with 1 Axes>"
            ],
            "image/png": "[encoded data removed]"
          },
          "metadata": {}
        }
      ]
    },
    {
      "cell_type": "markdown",
      "metadata": {
        "id": "cwiAEkTaybiv"
      },
      "source": [
        "##  Result with LR 0.1\n"
      ]
    },
    {
      "cell_type": "code",
      "source": [
        "currLoss"
      ],
      "metadata": {
        "id": "F8qK7v_oybiw",
        "colab": {
          "base_uri": "https://localhost:8080/"
        },
        "outputId": "b04fe914-a532-4c38-fbd0-8e173b51c7d6"
      },
      "execution_count": 94,
      "outputs": [
        {
          "output_type": "execute_result",
          "data": {
            "text/plain": [
              "1066006.9629629632"
            ]
          },
          "metadata": {},
          "execution_count": 94
        }
      ]
    },
    {
      "cell_type": "code",
      "source": [
        "deltaLoss"
      ],
      "metadata": {
        "id": "sU0tY7hcybiw",
        "colab": {
          "base_uri": "https://localhost:8080/"
        },
        "outputId": "c3d0731e-bf69-4554-ec89-50afce89d837"
      },
      "execution_count": 95,
      "outputs": [
        {
          "output_type": "execute_result",
          "data": {
            "text/plain": [
              "-1059371.2962962964"
            ]
          },
          "metadata": {},
          "execution_count": 95
        }
      ]
    },
    {
      "cell_type": "code",
      "source": [
        "itercount"
      ],
      "metadata": {
        "id": "wbZHiloAybix",
        "colab": {
          "base_uri": "https://localhost:8080/"
        },
        "outputId": "7c801335-bd74-420d-ef19-d080f3394d8c"
      },
      "execution_count": 96,
      "outputs": [
        {
          "output_type": "execute_result",
          "data": {
            "text/plain": [
              "1"
            ]
          },
          "metadata": {},
          "execution_count": 96
        }
      ]
    },
    {
      "cell_type": "code",
      "source": [
        "W"
      ],
      "metadata": {
        "id": "W1XijWOKybiy",
        "colab": {
          "base_uri": "https://localhost:8080/"
        },
        "outputId": "464c4ec4-59cd-41a1-ffed-acf785d9af2d"
      },
      "execution_count": 97,
      "outputs": [
        {
          "output_type": "execute_result",
          "data": {
            "text/plain": [
              "array([-82.66666667, -85.66666667])"
            ]
          },
          "metadata": {},
          "execution_count": 97
        }
      ]
    },
    {
      "cell_type": "markdown",
      "source": [
        "- As can be seen in the graph above , the gradient descent algorithm jumped over the minima due to its very large learning rate in a single iteration \n",
        "- It exited the limiting conditions because the loss threshold condition was not met\n",
        "- This clearly demostartes that too large a learning rate poses the risk of overshooting the minima and loss will will explode"
      ],
      "metadata": {
        "id": "I5WgfRHP8qta"
      }
    },
    {
      "cell_type": "code",
      "source": [],
      "metadata": {
        "id": "vI0jr-3nKlH4"
      },
      "execution_count": 97,
      "outputs": []
    },
    {
      "cell_type": "markdown",
      "metadata": {
        "id": "1eTqrv39Klo-"
      },
      "source": [
        "##  Implement Gradient Descent with LR 0.00001"
      ]
    },
    {
      "cell_type": "code",
      "source": [
        "# Update the W back to the original\n",
        "W=W_Copy.copy()"
      ],
      "metadata": {
        "id": "7SUznYcsKlo_"
      },
      "execution_count": 98,
      "outputs": []
    },
    {
      "cell_type": "code",
      "source": [
        "# We have already assigned an arbitrary value for weights (aka m and c here)\n",
        "print('W',W)\n",
        "\n",
        "#Lets also re-print our X,Y\n",
        "print('X',X) # input values\n",
        "print('Y',Y) # Actual Output\n",
        "\n",
        "#Alrighty, we are all set to proceed"
      ],
      "metadata": {
        "colab": {
          "base_uri": "https://localhost:8080/"
        },
        "outputId": "fc50219c-12d5-4bd5-c28b-0360566d911b",
        "id": "j-T5TessKlpA"
      },
      "execution_count": 99,
      "outputs": [
        {
          "output_type": "stream",
          "name": "stdout",
          "text": [
            "W [9. 6.]\n",
            "X [ 2  4  6  8 10 12 14 16 18]\n",
            "Y [ 7 11 15 19 23 27 31 35 39]\n"
          ]
        }
      ]
    },
    {
      "cell_type": "code",
      "source": [
        "# Lets use LR as 0.1\n",
        "lr=0.00001\n",
        "totalIterCount=100 # Total no of iterations allowed\n",
        "itercount=0 #Current iteration number\n",
        "lossThresh=0.05\n",
        "deltaLoss=5  # Intially we set an arbitrary value greater than lossThresh\n",
        "P=linearFunc(X,W)\n",
        "initLoss=MSE(Y,P) # This is loss with current weights\n",
        "\n",
        "# Lets plot the actual line and initial line \n",
        "plt.plot(X,linearFunc(X,W),c='r')# starting line in red\n",
        "plt.plot(X,Y,c='b')# actual line in blue\n",
        "\n",
        "\n",
        "# We will now do multiple iterations\n",
        "# Stopping condition ? Either max iterations are reached or the loss is not reducing beyond a fixed threshold\n",
        "\n",
        "while(True):\n",
        "  if(itercount>=200):\n",
        "    break\n",
        "  if(deltaLoss <= lossThresh):\n",
        "    break\n",
        "  else:\n",
        "    gradient=grad(X,Y,P)  #Calculate the gradient at this point\n",
        "    W=W + lr*gradient\n",
        "    P=linearFunc(X,W)     #Prediction with current weights\n",
        "    currLoss=MSE(Y,P)     #Lets update the weights \n",
        "    print('currLoss',currLoss)\n",
        "    deltaLoss=initLoss-currLoss  # Calculate diff in loss\n",
        "    print('deltaLoss',deltaLoss)\n",
        "    print('weightUpdate',lr*gradient)\n",
        "    initLoss=currLoss\n",
        "    itercount=itercount+1\n",
        "    plt.plot(X,linearFunc(X,W),c='g')#  line after one iteration in green\n",
        "\n"
      ],
      "metadata": {
        "colab": {
          "base_uri": "https://localhost:8080/",
          "height": 1000
        },
        "outputId": "e297756a-c7f6-40cc-d078-5476922a1e3c",
        "id": "yxXNhRSxKlpC"
      },
      "execution_count": 100,
      "outputs": [
        {
          "output_type": "execute_result",
          "data": {
            "text/plain": [
              "[<matplotlib.lines.Line2D at 0x7f94ec291460>]"
            ]
          },
          "metadata": {},
          "execution_count": 100
        },
        {
          "output_type": "execute_result",
          "data": {
            "text/plain": [
              "[<matplotlib.lines.Line2D at 0x7f94ec291880>]"
            ]
          },
          "metadata": {},
          "execution_count": 100
        },
        {
          "output_type": "stream",
          "name": "stdout",
          "text": [
            "currLoss 6617.535185879628\n",
            "deltaLoss 18.131480787038527\n",
            "weightUpdate -0.009166666666666667\n"
          ]
        },
        {
          "output_type": "execute_result",
          "data": {
            "text/plain": [
              "[<matplotlib.lines.Line2D at 0x7f94ec291d60>]"
            ]
          },
          "metadata": {},
          "execution_count": 100
        },
        {
          "output_type": "stream",
          "name": "stdout",
          "text": [
            "currLoss 6599.453250136663\n",
            "deltaLoss 18.08193574296547\n",
            "weightUpdate -0.009154138888888887\n"
          ]
        },
        {
          "output_type": "execute_result",
          "data": {
            "text/plain": [
              "[<matplotlib.lines.Line2D at 0x7f94ec223430>]"
            ]
          },
          "metadata": {},
          "execution_count": 100
        },
        {
          "output_type": "stream",
          "name": "stdout",
          "text": [
            "currLoss 6581.420724080495\n",
            "deltaLoss 18.032526056167626\n",
            "weightUpdate -0.009141628232407408\n"
          ]
        },
        {
          "output_type": "execute_result",
          "data": {
            "text/plain": [
              "[<matplotlib.lines.Line2D at 0x7f94ec2231c0>]"
            ]
          },
          "metadata": {},
          "execution_count": 100
        },
        {
          "output_type": "stream",
          "name": "stdout",
          "text": [
            "currLoss 6563.437472723618\n",
            "deltaLoss 17.98325135687719\n",
            "weightUpdate -0.009129134673823118\n"
          ]
        },
        {
          "output_type": "execute_result",
          "data": {
            "text/plain": [
              "[<matplotlib.lines.Line2D at 0x7f94ec223b20>]"
            ]
          },
          "metadata": {},
          "execution_count": 100
        },
        {
          "output_type": "stream",
          "name": "stdout",
          "text": [
            "currLoss 6545.5033614472695\n",
            "deltaLoss 17.93411127634863\n",
            "weightUpdate -0.009116658189768891\n"
          ]
        },
        {
          "output_type": "execute_result",
          "data": {
            "text/plain": [
              "[<matplotlib.lines.Line2D at 0x7f94ec223fd0>]"
            ]
          },
          "metadata": {},
          "execution_count": 100
        },
        {
          "output_type": "stream",
          "name": "stdout",
          "text": [
            "currLoss 6527.618256000432\n",
            "deltaLoss 17.88510544683777\n",
            "weightUpdate -0.009104198756909541\n"
          ]
        },
        {
          "output_type": "execute_result",
          "data": {
            "text/plain": [
              "[<matplotlib.lines.Line2D at 0x7f94ec227370>]"
            ]
          },
          "metadata": {},
          "execution_count": 100
        },
        {
          "output_type": "stream",
          "name": "stdout",
          "text": [
            "currLoss 6509.782022498828\n",
            "deltaLoss 17.8362335016036\n",
            "weightUpdate -0.009091756351941765\n"
          ]
        },
        {
          "output_type": "execute_result",
          "data": {
            "text/plain": [
              "[<matplotlib.lines.Line2D at 0x7f94ec227550>]"
            ]
          },
          "metadata": {},
          "execution_count": 100
        },
        {
          "output_type": "stream",
          "name": "stdout",
          "text": [
            "currLoss 6491.994527423911\n",
            "deltaLoss 17.787495074917388\n",
            "weightUpdate -0.00907933095159411\n"
          ]
        },
        {
          "output_type": "execute_result",
          "data": {
            "text/plain": [
              "[<matplotlib.lines.Line2D at 0x7f94ec291ac0>]"
            ]
          },
          "metadata": {},
          "execution_count": 100
        },
        {
          "output_type": "stream",
          "name": "stdout",
          "text": [
            "currLoss 6474.255637621882\n",
            "deltaLoss 17.738889802029007\n",
            "weightUpdate -0.009066922532626929\n"
          ]
        },
        {
          "output_type": "execute_result",
          "data": {
            "text/plain": [
              "[<matplotlib.lines.Line2D at 0x7f94ec227c10>]"
            ]
          },
          "metadata": {},
          "execution_count": 100
        },
        {
          "output_type": "stream",
          "name": "stdout",
          "text": [
            "currLoss 6456.565220302673\n",
            "deltaLoss 17.69041731920879\n",
            "weightUpdate -0.00905453107183234\n"
          ]
        },
        {
          "output_type": "execute_result",
          "data": {
            "text/plain": [
              "[<matplotlib.lines.Line2D at 0x7f94ec227fa0>]"
            ]
          },
          "metadata": {},
          "execution_count": 100
        },
        {
          "output_type": "stream",
          "name": "stdout",
          "text": [
            "currLoss 6438.923143038968\n",
            "deltaLoss 17.642077263704778\n",
            "weightUpdate -0.009042156546034168\n"
          ]
        },
        {
          "output_type": "execute_result",
          "data": {
            "text/plain": [
              "[<matplotlib.lines.Line2D at 0x7f94ec23a490>]"
            ]
          },
          "metadata": {},
          "execution_count": 100
        },
        {
          "output_type": "stream",
          "name": "stdout",
          "text": [
            "currLoss 6421.329273765209\n",
            "deltaLoss 17.593869273759083\n",
            "weightUpdate -0.009029798932087923\n"
          ]
        },
        {
          "output_type": "execute_result",
          "data": {
            "text/plain": [
              "[<matplotlib.lines.Line2D at 0x7f94ec23a7f0>]"
            ]
          },
          "metadata": {},
          "execution_count": 100
        },
        {
          "output_type": "stream",
          "name": "stdout",
          "text": [
            "currLoss 6403.783480776608\n",
            "deltaLoss 17.545792988601534\n",
            "weightUpdate -0.009017458206880736\n"
          ]
        },
        {
          "output_type": "execute_result",
          "data": {
            "text/plain": [
              "[<matplotlib.lines.Line2D at 0x7f94ec23a9d0>]"
            ]
          },
          "metadata": {},
          "execution_count": 100
        },
        {
          "output_type": "stream",
          "name": "stdout",
          "text": [
            "currLoss 6386.285632728148\n",
            "deltaLoss 17.497848048459673\n",
            "weightUpdate -0.009005134347331332\n"
          ]
        },
        {
          "output_type": "execute_result",
          "data": {
            "text/plain": [
              "[<matplotlib.lines.Line2D at 0x7f94ec23aeb0>]"
            ]
          },
          "metadata": {},
          "execution_count": 100
        },
        {
          "output_type": "stream",
          "name": "stdout",
          "text": [
            "currLoss 6368.835598633628\n",
            "deltaLoss 17.45003409451965\n",
            "weightUpdate -0.008992827330389978\n"
          ]
        },
        {
          "output_type": "execute_result",
          "data": {
            "text/plain": [
              "[<matplotlib.lines.Line2D at 0x7f94ec241100>]"
            ]
          },
          "metadata": {},
          "execution_count": 100
        },
        {
          "output_type": "stream",
          "name": "stdout",
          "text": [
            "currLoss 6351.433247864665\n",
            "deltaLoss 17.402350768963515\n",
            "weightUpdate -0.008980537133038443\n"
          ]
        },
        {
          "output_type": "execute_result",
          "data": {
            "text/plain": [
              "[<matplotlib.lines.Line2D at 0x7f94ec241430>]"
            ]
          },
          "metadata": {},
          "execution_count": 100
        },
        {
          "output_type": "stream",
          "name": "stdout",
          "text": [
            "currLoss 6334.078450149703\n",
            "deltaLoss 17.354797714961933\n",
            "weightUpdate -0.00896826373228996\n"
          ]
        },
        {
          "output_type": "execute_result",
          "data": {
            "text/plain": [
              "[<matplotlib.lines.Line2D at 0x7f94ec223850>]"
            ]
          },
          "metadata": {},
          "execution_count": 100
        },
        {
          "output_type": "stream",
          "name": "stdout",
          "text": [
            "currLoss 6316.771075573076\n",
            "deltaLoss 17.3073745766269\n",
            "weightUpdate -0.008956007105189163\n"
          ]
        },
        {
          "output_type": "execute_result",
          "data": {
            "text/plain": [
              "[<matplotlib.lines.Line2D at 0x7f94ec241af0>]"
            ]
          },
          "metadata": {},
          "execution_count": 100
        },
        {
          "output_type": "stream",
          "name": "stdout",
          "text": [
            "currLoss 6299.510994573994\n",
            "deltaLoss 17.260080999081765\n",
            "weightUpdate -0.00894376722881207\n"
          ]
        },
        {
          "output_type": "execute_result",
          "data": {
            "text/plain": [
              "[<matplotlib.lines.Line2D at 0x7f94ec241e80>]"
            ]
          },
          "metadata": {},
          "execution_count": 100
        },
        {
          "output_type": "stream",
          "name": "stdout",
          "text": [
            "currLoss 6282.298077945612\n",
            "deltaLoss 17.212916628382118\n",
            "weightUpdate -0.008931544080266028\n"
          ]
        },
        {
          "output_type": "execute_result",
          "data": {
            "text/plain": [
              "[<matplotlib.lines.Line2D at 0x7f94ec244370>]"
            ]
          },
          "metadata": {},
          "execution_count": 100
        },
        {
          "output_type": "stream",
          "name": "stdout",
          "text": [
            "currLoss 6265.132196834033\n",
            "deltaLoss 17.165881111579438\n",
            "weightUpdate -0.008919337636689664\n"
          ]
        },
        {
          "output_type": "execute_result",
          "data": {
            "text/plain": [
              "[<matplotlib.lines.Line2D at 0x7f94ec2446d0>]"
            ]
          },
          "metadata": {},
          "execution_count": 100
        },
        {
          "output_type": "stream",
          "name": "stdout",
          "text": [
            "currLoss 6248.013222737352\n",
            "deltaLoss 17.118974096680176\n",
            "weightUpdate -0.008907147875252857\n"
          ]
        },
        {
          "output_type": "execute_result",
          "data": {
            "text/plain": [
              "[<matplotlib.lines.Line2D at 0x7f94ec244a30>]"
            ]
          },
          "metadata": {},
          "execution_count": 100
        },
        {
          "output_type": "stream",
          "name": "stdout",
          "text": [
            "currLoss 6230.941027504712\n",
            "deltaLoss 17.072195232640297\n",
            "weightUpdate -0.008894974773156676\n"
          ]
        },
        {
          "output_type": "execute_result",
          "data": {
            "text/plain": [
              "[<matplotlib.lines.Line2D at 0x7f94ec244d90>]"
            ]
          },
          "metadata": {},
          "execution_count": 100
        },
        {
          "output_type": "stream",
          "name": "stdout",
          "text": [
            "currLoss 6213.91548333532\n",
            "deltaLoss 17.02554416939256\n",
            "weightUpdate -0.008882818307633366\n"
          ]
        },
        {
          "output_type": "execute_result",
          "data": {
            "text/plain": [
              "[<matplotlib.lines.Line2D at 0x7f94ec244f70>]"
            ]
          },
          "metadata": {},
          "execution_count": 100
        },
        {
          "output_type": "stream",
          "name": "stdout",
          "text": [
            "currLoss 6196.936462777503\n",
            "deltaLoss 16.97902055781651\n",
            "weightUpdate -0.008870678455946267\n"
          ]
        },
        {
          "output_type": "execute_result",
          "data": {
            "text/plain": [
              "[<matplotlib.lines.Line2D at 0x7f94ec252340>]"
            ]
          },
          "metadata": {},
          "execution_count": 100
        },
        {
          "output_type": "stream",
          "name": "stdout",
          "text": [
            "currLoss 6180.003838727757\n",
            "deltaLoss 16.932624049745755\n",
            "weightUpdate -0.008858555195389807\n"
          ]
        },
        {
          "output_type": "execute_result",
          "data": {
            "text/plain": [
              "[<matplotlib.lines.Line2D at 0x7f94ec2527f0>]"
            ]
          },
          "metadata": {},
          "execution_count": 100
        },
        {
          "output_type": "stream",
          "name": "stdout",
          "text": [
            "currLoss 6163.117484429793\n",
            "deltaLoss 16.886354297964317\n",
            "weightUpdate -0.00884644850328944\n"
          ]
        },
        {
          "output_type": "execute_result",
          "data": {
            "text/plain": [
              "[<matplotlib.lines.Line2D at 0x7f94ec252b50>]"
            ]
          },
          "metadata": {},
          "execution_count": 100
        },
        {
          "output_type": "stream",
          "name": "stdout",
          "text": [
            "currLoss 6146.277273473587\n",
            "deltaLoss 16.840210956205738\n",
            "weightUpdate -0.008834358357001611\n"
          ]
        },
        {
          "output_type": "execute_result",
          "data": {
            "text/plain": [
              "[<matplotlib.lines.Line2D at 0x7f94ec252eb0>]"
            ]
          },
          "metadata": {},
          "execution_count": 100
        },
        {
          "output_type": "stream",
          "name": "stdout",
          "text": [
            "currLoss 6129.483079794426\n",
            "deltaLoss 16.794193679161253\n",
            "weightUpdate -0.008822284733913709\n"
          ]
        },
        {
          "output_type": "execute_result",
          "data": {
            "text/plain": [
              "[<matplotlib.lines.Line2D at 0x7f94ec1e70d0>]"
            ]
          },
          "metadata": {},
          "execution_count": 100
        },
        {
          "output_type": "stream",
          "name": "stdout",
          "text": [
            "currLoss 6112.734777671986\n",
            "deltaLoss 16.74830212243978\n",
            "weightUpdate -0.008810227611444028\n"
          ]
        },
        {
          "output_type": "execute_result",
          "data": {
            "text/plain": [
              "[<matplotlib.lines.Line2D at 0x7f94ec1e74c0>]"
            ]
          },
          "metadata": {},
          "execution_count": 100
        },
        {
          "output_type": "stream",
          "name": "stdout",
          "text": [
            "currLoss 6096.032241729373\n",
            "deltaLoss 16.702535942613395\n",
            "weightUpdate -0.00879818696704172\n"
          ]
        },
        {
          "output_type": "execute_result",
          "data": {
            "text/plain": [
              "[<matplotlib.lines.Line2D at 0x7f94ec1e7790>]"
            ]
          },
          "metadata": {},
          "execution_count": 100
        },
        {
          "output_type": "stream",
          "name": "stdout",
          "text": [
            "currLoss 6079.375346932193\n",
            "deltaLoss 16.65689479718003\n",
            "weightUpdate -0.008786162778186762\n"
          ]
        },
        {
          "output_type": "execute_result",
          "data": {
            "text/plain": [
              "[<matplotlib.lines.Line2D at 0x7f94ec1e7c40>]"
            ]
          },
          "metadata": {},
          "execution_count": 100
        },
        {
          "output_type": "stream",
          "name": "stdout",
          "text": [
            "currLoss 6062.763968587609\n",
            "deltaLoss 16.6113783445835\n",
            "weightUpdate -0.00877415502238991\n"
          ]
        },
        {
          "output_type": "execute_result",
          "data": {
            "text/plain": [
              "[<matplotlib.lines.Line2D at 0x7f94ec1e7e80>]"
            ]
          },
          "metadata": {},
          "execution_count": 100
        },
        {
          "output_type": "stream",
          "name": "stdout",
          "text": [
            "currLoss 6046.197982343419\n",
            "deltaLoss 16.565986244189844\n",
            "weightUpdate -0.00876216367719264\n"
          ]
        },
        {
          "output_type": "execute_result",
          "data": {
            "text/plain": [
              "[<matplotlib.lines.Line2D at 0x7f94ec1ea370>]"
            ]
          },
          "metadata": {},
          "execution_count": 100
        },
        {
          "output_type": "stream",
          "name": "stdout",
          "text": [
            "currLoss 6029.677264187118\n",
            "deltaLoss 16.520718156300973\n",
            "weightUpdate -0.008750188720167144\n"
          ]
        },
        {
          "output_type": "execute_result",
          "data": {
            "text/plain": [
              "[<matplotlib.lines.Line2D at 0x7f94ec1ea6d0>]"
            ]
          },
          "metadata": {},
          "execution_count": 100
        },
        {
          "output_type": "stream",
          "name": "stdout",
          "text": [
            "currLoss 6013.201690444976\n",
            "deltaLoss 16.475573742142842\n",
            "weightUpdate -0.008738230128916247\n"
          ]
        },
        {
          "output_type": "execute_result",
          "data": {
            "text/plain": [
              "[<matplotlib.lines.Line2D at 0x7f94ec1ea8b0>]"
            ]
          },
          "metadata": {},
          "execution_count": 100
        },
        {
          "output_type": "stream",
          "name": "stdout",
          "text": [
            "currLoss 5996.771137781096\n",
            "deltaLoss 16.430552663880007\n",
            "weightUpdate -0.008726287881073398\n"
          ]
        },
        {
          "output_type": "execute_result",
          "data": {
            "text/plain": [
              "[<matplotlib.lines.Line2D at 0x7f94ec1eac10>]"
            ]
          },
          "metadata": {},
          "execution_count": 100
        },
        {
          "output_type": "stream",
          "name": "stdout",
          "text": [
            "currLoss 5980.385483196516\n",
            "deltaLoss 16.385654584579243\n",
            "weightUpdate -0.008714361954302597\n"
          ]
        },
        {
          "output_type": "execute_result",
          "data": {
            "text/plain": [
              "[<matplotlib.lines.Line2D at 0x7f94ec1eaf70>]"
            ]
          },
          "metadata": {},
          "execution_count": 100
        },
        {
          "output_type": "stream",
          "name": "stdout",
          "text": [
            "currLoss 5964.044604028271\n",
            "deltaLoss 16.34087916824501\n",
            "weightUpdate -0.008702452326298382\n"
          ]
        },
        {
          "output_type": "execute_result",
          "data": {
            "text/plain": [
              "[<matplotlib.lines.Line2D at 0x7f94ec200310>]"
            ]
          },
          "metadata": {},
          "execution_count": 100
        },
        {
          "output_type": "stream",
          "name": "stdout",
          "text": [
            "currLoss 5947.748377948479\n",
            "deltaLoss 16.296226079792177\n",
            "weightUpdate -0.008690558974785776\n"
          ]
        },
        {
          "output_type": "execute_result",
          "data": {
            "text/plain": [
              "[<matplotlib.lines.Line2D at 0x7f94ec2006a0>]"
            ]
          },
          "metadata": {},
          "execution_count": 100
        },
        {
          "output_type": "stream",
          "name": "stdout",
          "text": [
            "currLoss 5931.496682963435\n",
            "deltaLoss 16.251694985044196\n",
            "weightUpdate -0.008678681877520234\n"
          ]
        },
        {
          "output_type": "execute_result",
          "data": {
            "text/plain": [
              "[<matplotlib.lines.Line2D at 0x7f94ec200b50>]"
            ]
          },
          "metadata": {},
          "execution_count": 100
        },
        {
          "output_type": "stream",
          "name": "stdout",
          "text": [
            "currLoss 5915.289397412675\n",
            "deltaLoss 16.20728555076039\n",
            "weightUpdate -0.008666821012287626\n"
          ]
        },
        {
          "output_type": "execute_result",
          "data": {
            "text/plain": [
              "[<matplotlib.lines.Line2D at 0x7f94ec200eb0>]"
            ]
          },
          "metadata": {},
          "execution_count": 100
        },
        {
          "output_type": "stream",
          "name": "stdout",
          "text": [
            "currLoss 5899.1263999681\n",
            "deltaLoss 16.162997444575012\n",
            "weightUpdate -0.008654976356904162\n"
          ]
        },
        {
          "output_type": "execute_result",
          "data": {
            "text/plain": [
              "[<matplotlib.lines.Line2D at 0x7f94ec1ff100>]"
            ]
          },
          "metadata": {},
          "execution_count": 100
        },
        {
          "output_type": "stream",
          "name": "stdout",
          "text": [
            "currLoss 5883.007569633031\n",
            "deltaLoss 16.118830335068196\n",
            "weightUpdate -0.008643147889216397\n"
          ]
        },
        {
          "output_type": "execute_result",
          "data": {
            "text/plain": [
              "[<matplotlib.lines.Line2D at 0x7f94ec1ff5b0>]"
            ]
          },
          "metadata": {},
          "execution_count": 100
        },
        {
          "output_type": "stream",
          "name": "stdout",
          "text": [
            "currLoss 5866.9327857413355\n",
            "deltaLoss 16.074783891695915\n",
            "weightUpdate -0.008631335587101134\n"
          ]
        },
        {
          "output_type": "execute_result",
          "data": {
            "text/plain": [
              "[<matplotlib.lines.Line2D at 0x7f94ec1ff910>]"
            ]
          },
          "metadata": {},
          "execution_count": 100
        },
        {
          "output_type": "stream",
          "name": "stdout",
          "text": [
            "currLoss 5850.901927956503\n",
            "deltaLoss 16.030857784832733\n",
            "weightUpdate -0.008619539428465429\n"
          ]
        },
        {
          "output_type": "execute_result",
          "data": {
            "text/plain": [
              "[<matplotlib.lines.Line2D at 0x7f94ec1ffc70>]"
            ]
          },
          "metadata": {},
          "execution_count": 100
        },
        {
          "output_type": "stream",
          "name": "stdout",
          "text": [
            "currLoss 5834.914876270756\n",
            "deltaLoss 15.987051685746337\n",
            "weightUpdate -0.008607759391246523\n"
          ]
        },
        {
          "output_type": "execute_result",
          "data": {
            "text/plain": [
              "[<matplotlib.lines.Line2D at 0x7f94ec1ffee0>]"
            ]
          },
          "metadata": {},
          "execution_count": 100
        },
        {
          "output_type": "stream",
          "name": "stdout",
          "text": [
            "currLoss 5818.971511004149\n",
            "deltaLoss 15.943365266607543\n",
            "weightUpdate -0.008595995453411822\n"
          ]
        },
        {
          "output_type": "execute_result",
          "data": {
            "text/plain": [
              "[<matplotlib.lines.Line2D at 0x7f94ec219190>]"
            ]
          },
          "metadata": {},
          "execution_count": 100
        },
        {
          "output_type": "stream",
          "name": "stdout",
          "text": [
            "currLoss 5803.0717128036695\n",
            "deltaLoss 15.899798200479381\n",
            "weightUpdate -0.008584247592958826\n"
          ]
        },
        {
          "output_type": "execute_result",
          "data": {
            "text/plain": [
              "[<matplotlib.lines.Line2D at 0x7f94ec2196a0>]"
            ]
          },
          "metadata": {},
          "execution_count": 100
        },
        {
          "output_type": "stream",
          "name": "stdout",
          "text": [
            "currLoss 5787.215362642348\n",
            "deltaLoss 15.856350161321643\n",
            "weightUpdate -0.008572515787915114\n"
          ]
        },
        {
          "output_type": "execute_result",
          "data": {
            "text/plain": [
              "[<matplotlib.lines.Line2D at 0x7f94ec219a00>]"
            ]
          },
          "metadata": {},
          "execution_count": 100
        },
        {
          "output_type": "stream",
          "name": "stdout",
          "text": [
            "currLoss 5771.402341818367\n",
            "deltaLoss 15.813020823980878\n",
            "weightUpdate -0.008560800016338297\n"
          ]
        },
        {
          "output_type": "execute_result",
          "data": {
            "text/plain": [
              "[<matplotlib.lines.Line2D at 0x7f94ec219d60>]"
            ]
          },
          "metadata": {},
          "execution_count": 100
        },
        {
          "output_type": "stream",
          "name": "stdout",
          "text": [
            "currLoss 5755.6325319541775\n",
            "deltaLoss 15.769809864189483\n",
            "weightUpdate -0.008549100256315969\n"
          ]
        },
        {
          "output_type": "execute_result",
          "data": {
            "text/plain": [
              "[<matplotlib.lines.Line2D at 0x7f94ec219f70>]"
            ]
          },
          "metadata": {},
          "execution_count": 100
        },
        {
          "output_type": "stream",
          "name": "stdout",
          "text": [
            "currLoss 5739.905814995606\n",
            "deltaLoss 15.72671695857116\n",
            "weightUpdate -0.008537416485965671\n"
          ]
        },
        {
          "output_type": "execute_result",
          "data": {
            "text/plain": [
              "[<matplotlib.lines.Line2D at 0x7f94ec20b460>]"
            ]
          },
          "metadata": {},
          "execution_count": 100
        },
        {
          "output_type": "stream",
          "name": "stdout",
          "text": [
            "currLoss 5724.222073210972\n",
            "deltaLoss 15.683741784634549\n",
            "weightUpdate -0.008525748683434852\n"
          ]
        },
        {
          "output_type": "execute_result",
          "data": {
            "text/plain": [
              "[<matplotlib.lines.Line2D at 0x7f94ec20b7c0>]"
            ]
          },
          "metadata": {},
          "execution_count": 100
        },
        {
          "output_type": "stream",
          "name": "stdout",
          "text": [
            "currLoss 5708.581189190212\n",
            "deltaLoss 15.640884020759586\n",
            "weightUpdate -0.008514096826900824\n"
          ]
        },
        {
          "output_type": "execute_result",
          "data": {
            "text/plain": [
              "[<matplotlib.lines.Line2D at 0x7f94ec20bb20>]"
            ]
          },
          "metadata": {},
          "execution_count": 100
        },
        {
          "output_type": "stream",
          "name": "stdout",
          "text": [
            "currLoss 5692.983045843995\n",
            "deltaLoss 15.598143346217512\n",
            "weightUpdate -0.008502460894570728\n"
          ]
        },
        {
          "output_type": "execute_result",
          "data": {
            "text/plain": [
              "[<matplotlib.lines.Line2D at 0x7f94ec20be80>]"
            ]
          },
          "metadata": {},
          "execution_count": 100
        },
        {
          "output_type": "stream",
          "name": "stdout",
          "text": [
            "currLoss 5677.427526402853\n",
            "deltaLoss 15.555519441141769\n",
            "weightUpdate -0.00849084086468148\n"
          ]
        },
        {
          "output_type": "execute_result",
          "data": {
            "text/plain": [
              "[<matplotlib.lines.Line2D at 0x7f94ec1a80d0>]"
            ]
          },
          "metadata": {},
          "execution_count": 100
        },
        {
          "output_type": "stream",
          "name": "stdout",
          "text": [
            "currLoss 5661.914514416303\n",
            "deltaLoss 15.513011986549827\n",
            "weightUpdate -0.00847923671549975\n"
          ]
        },
        {
          "output_type": "execute_result",
          "data": {
            "text/plain": [
              "[<matplotlib.lines.Line2D at 0x7f94ec1a8580>]"
            ]
          },
          "metadata": {},
          "execution_count": 100
        },
        {
          "output_type": "stream",
          "name": "stdout",
          "text": [
            "currLoss 5646.443893751972\n",
            "deltaLoss 15.470620664331364\n",
            "weightUpdate -0.0084676484253219\n"
          ]
        },
        {
          "output_type": "execute_result",
          "data": {
            "text/plain": [
              "[<matplotlib.lines.Line2D at 0x7f94ec1a88e0>]"
            ]
          },
          "metadata": {},
          "execution_count": 100
        },
        {
          "output_type": "stream",
          "name": "stdout",
          "text": [
            "currLoss 5631.015548594738\n",
            "deltaLoss 15.428345157233707\n",
            "weightUpdate -0.00845607597247396\n"
          ]
        },
        {
          "output_type": "execute_result",
          "data": {
            "text/plain": [
              "[<matplotlib.lines.Line2D at 0x7f94ec1a8c40>]"
            ]
          },
          "metadata": {},
          "execution_count": 100
        },
        {
          "output_type": "stream",
          "name": "stdout",
          "text": [
            "currLoss 5615.629363445855\n",
            "deltaLoss 15.38618514888276\n",
            "weightUpdate -0.00844451933531158\n"
          ]
        },
        {
          "output_type": "execute_result",
          "data": {
            "text/plain": [
              "[<matplotlib.lines.Line2D at 0x7f94ec1a8fa0>]"
            ]
          },
          "metadata": {},
          "execution_count": 100
        },
        {
          "output_type": "stream",
          "name": "stdout",
          "text": [
            "currLoss 5600.285223122093\n",
            "deltaLoss 15.344140323762076\n",
            "weightUpdate -0.008432978492219986\n"
          ]
        },
        {
          "output_type": "execute_result",
          "data": {
            "text/plain": [
              "[<matplotlib.lines.Line2D at 0x7f94ec1ab340>]"
            ]
          },
          "metadata": {},
          "execution_count": 100
        },
        {
          "output_type": "stream",
          "name": "stdout",
          "text": [
            "currLoss 5584.983012754871\n",
            "deltaLoss 15.30221036722196\n",
            "weightUpdate -0.008421453421613954\n"
          ]
        },
        {
          "output_type": "execute_result",
          "data": {
            "text/plain": [
              "[<matplotlib.lines.Line2D at 0x7f94ec1ab6a0>]"
            ]
          },
          "metadata": {},
          "execution_count": 100
        },
        {
          "output_type": "stream",
          "name": "stdout",
          "text": [
            "currLoss 5569.722617789403\n",
            "deltaLoss 15.26039496546855\n",
            "weightUpdate -0.008409944101937749\n"
          ]
        },
        {
          "output_type": "execute_result",
          "data": {
            "text/plain": [
              "[<matplotlib.lines.Line2D at 0x7f94ec1aba00>]"
            ]
          },
          "metadata": {},
          "execution_count": 100
        },
        {
          "output_type": "stream",
          "name": "stdout",
          "text": [
            "currLoss 5554.503923983845\n",
            "deltaLoss 15.21869380555745\n",
            "weightUpdate -0.0083984505116651\n"
          ]
        },
        {
          "output_type": "execute_result",
          "data": {
            "text/plain": [
              "[<matplotlib.lines.Line2D at 0x7f94ec1abd60>]"
            ]
          },
          "metadata": {},
          "execution_count": 100
        },
        {
          "output_type": "stream",
          "name": "stdout",
          "text": [
            "currLoss 5539.326817408424\n",
            "deltaLoss 15.177106575421021\n",
            "weightUpdate -0.008386972629299157\n"
          ]
        },
        {
          "output_type": "execute_result",
          "data": {
            "text/plain": [
              "[<matplotlib.lines.Line2D at 0x7f94ec1abf70>]"
            ]
          },
          "metadata": {},
          "execution_count": 100
        },
        {
          "output_type": "stream",
          "name": "stdout",
          "text": [
            "currLoss 5524.1911844446\n",
            "deltaLoss 15.13563296382381\n",
            "weightUpdate -0.008375510433372448\n"
          ]
        },
        {
          "output_type": "execute_result",
          "data": {
            "text/plain": [
              "[<matplotlib.lines.Line2D at 0x7f94ec1c5460>]"
            ]
          },
          "metadata": {},
          "execution_count": 100
        },
        {
          "output_type": "stream",
          "name": "stdout",
          "text": [
            "currLoss 5509.09691178422\n",
            "deltaLoss 15.094272660380739\n",
            "weightUpdate -0.008364063902446837\n"
          ]
        },
        {
          "output_type": "execute_result",
          "data": {
            "text/plain": [
              "[<matplotlib.lines.Line2D at 0x7f94ec1c57c0>]"
            ]
          },
          "metadata": {},
          "execution_count": 100
        },
        {
          "output_type": "stream",
          "name": "stdout",
          "text": [
            "currLoss 5494.043886428645\n",
            "deltaLoss 15.053025355574391\n",
            "weightUpdate -0.008352633015113495\n"
          ]
        },
        {
          "output_type": "execute_result",
          "data": {
            "text/plain": [
              "[<matplotlib.lines.Line2D at 0x7f94ec1c5b20>]"
            ]
          },
          "metadata": {},
          "execution_count": 100
        },
        {
          "output_type": "stream",
          "name": "stdout",
          "text": [
            "currLoss 5479.0319956879375\n",
            "deltaLoss 15.011890740707713\n",
            "weightUpdate -0.008341217749992842\n"
          ]
        },
        {
          "output_type": "execute_result",
          "data": {
            "text/plain": [
              "[<matplotlib.lines.Line2D at 0x7f94ec1c5e80>]"
            ]
          },
          "metadata": {},
          "execution_count": 100
        },
        {
          "output_type": "stream",
          "name": "stdout",
          "text": [
            "currLoss 5464.061127179986\n",
            "deltaLoss 14.970868507951309\n",
            "weightUpdate -0.008329818085734518\n"
          ]
        },
        {
          "output_type": "execute_result",
          "data": {
            "text/plain": [
              "[<matplotlib.lines.Line2D at 0x7f94ec1d1220>]"
            ]
          },
          "metadata": {},
          "execution_count": 100
        },
        {
          "output_type": "stream",
          "name": "stdout",
          "text": [
            "currLoss 5449.1311688296955\n",
            "deltaLoss 14.92995835029069\n",
            "weightUpdate -0.008318434001017349\n"
          ]
        },
        {
          "output_type": "execute_result",
          "data": {
            "text/plain": [
              "[<matplotlib.lines.Line2D at 0x7f94ec1d1580>]"
            ]
          },
          "metadata": {},
          "execution_count": 100
        },
        {
          "output_type": "stream",
          "name": "stdout",
          "text": [
            "currLoss 5434.242008868123\n",
            "deltaLoss 14.889159961572659\n",
            "weightUpdate -0.008307065474549293\n"
          ]
        },
        {
          "output_type": "execute_result",
          "data": {
            "text/plain": [
              "[<matplotlib.lines.Line2D at 0x7f94ec1d18e0>]"
            ]
          },
          "metadata": {},
          "execution_count": 100
        },
        {
          "output_type": "stream",
          "name": "stdout",
          "text": [
            "currLoss 5419.3935358316585\n",
            "deltaLoss 14.848473036464384\n",
            "weightUpdate -0.008295712485067408\n"
          ]
        },
        {
          "output_type": "execute_result",
          "data": {
            "text/plain": [
              "[<matplotlib.lines.Line2D at 0x7f94ec1d1c40>]"
            ]
          },
          "metadata": {},
          "execution_count": 100
        },
        {
          "output_type": "stream",
          "name": "stdout",
          "text": [
            "currLoss 5404.585638561179\n",
            "deltaLoss 14.80789727047977\n",
            "weightUpdate -0.008284375011337816\n"
          ]
        },
        {
          "output_type": "execute_result",
          "data": {
            "text/plain": [
              "[<matplotlib.lines.Line2D at 0x7f94ec1d1fa0>]"
            ]
          },
          "metadata": {},
          "execution_count": 100
        },
        {
          "output_type": "stream",
          "name": "stdout",
          "text": [
            "currLoss 5389.818206201222\n",
            "deltaLoss 14.767432359956729\n",
            "weightUpdate -0.008273053032155656\n"
          ]
        },
        {
          "output_type": "execute_result",
          "data": {
            "text/plain": [
              "[<matplotlib.lines.Line2D at 0x7f94ec1d0340>]"
            ]
          },
          "metadata": {},
          "execution_count": 100
        },
        {
          "output_type": "stream",
          "name": "stdout",
          "text": [
            "currLoss 5375.091128199159\n",
            "deltaLoss 14.727078002062626\n",
            "weightUpdate -0.008261746526345043\n"
          ]
        },
        {
          "output_type": "execute_result",
          "data": {
            "text/plain": [
              "[<matplotlib.lines.Line2D at 0x7f94ec1d06a0>]"
            ]
          },
          "metadata": {},
          "execution_count": 100
        },
        {
          "output_type": "stream",
          "name": "stdout",
          "text": [
            "currLoss 5360.404294304365\n",
            "deltaLoss 14.68683389479429\n",
            "weightUpdate -0.008250455472759039\n"
          ]
        },
        {
          "output_type": "execute_result",
          "data": {
            "text/plain": [
              "[<matplotlib.lines.Line2D at 0x7f94ec1d0880>]"
            ]
          },
          "metadata": {},
          "execution_count": 100
        },
        {
          "output_type": "stream",
          "name": "stdout",
          "text": [
            "currLoss 5345.7575945673925\n",
            "deltaLoss 14.64669973697255\n",
            "weightUpdate -0.008239179850279601\n"
          ]
        },
        {
          "output_type": "execute_result",
          "data": {
            "text/plain": [
              "[<matplotlib.lines.Line2D at 0x7f94ec1d0c10>]"
            ]
          },
          "metadata": {},
          "execution_count": 100
        },
        {
          "output_type": "stream",
          "name": "stdout",
          "text": [
            "currLoss 5331.150919339148\n",
            "deltaLoss 14.606675228244967\n",
            "weightUpdate -0.008227919637817552\n"
          ]
        },
        {
          "output_type": "execute_result",
          "data": {
            "text/plain": [
              "[<matplotlib.lines.Line2D at 0x7f94ec1d0f70>]"
            ]
          },
          "metadata": {},
          "execution_count": 100
        },
        {
          "output_type": "stream",
          "name": "stdout",
          "text": [
            "currLoss 5316.584159270077\n",
            "deltaLoss 14.56676006907037\n",
            "weightUpdate -0.008216674814312536\n"
          ]
        },
        {
          "output_type": "execute_result",
          "data": {
            "text/plain": [
              "[<matplotlib.lines.Line2D at 0x7f94ec169460>]"
            ]
          },
          "metadata": {},
          "execution_count": 100
        },
        {
          "output_type": "stream",
          "name": "stdout",
          "text": [
            "currLoss 5302.057205309341\n",
            "deltaLoss 14.526953960736137\n",
            "weightUpdate -0.008205445358732973\n"
          ]
        },
        {
          "output_type": "execute_result",
          "data": {
            "text/plain": [
              "[<matplotlib.lines.Line2D at 0x7f94ec1697c0>]"
            ]
          },
          "metadata": {},
          "execution_count": 100
        },
        {
          "output_type": "stream",
          "name": "stdout",
          "text": [
            "currLoss 5287.569948704001\n",
            "deltaLoss 14.487256605340008\n",
            "weightUpdate -0.00819423125007604\n"
          ]
        },
        {
          "output_type": "execute_result",
          "data": {
            "text/plain": [
              "[<matplotlib.lines.Line2D at 0x7f94ec169a00>]"
            ]
          },
          "metadata": {},
          "execution_count": 100
        },
        {
          "output_type": "stream",
          "name": "stdout",
          "text": [
            "currLoss 5273.122280998211\n",
            "deltaLoss 14.447667705790082\n",
            "weightUpdate -0.008183032467367601\n"
          ]
        },
        {
          "output_type": "execute_result",
          "data": {
            "text/plain": [
              "[<matplotlib.lines.Line2D at 0x7f94ec169eb0>]"
            ]
          },
          "metadata": {},
          "execution_count": 100
        },
        {
          "output_type": "stream",
          "name": "stdout",
          "text": [
            "currLoss 5258.714094032396\n",
            "deltaLoss 14.40818696581482\n",
            "weightUpdate -0.008171848989662197\n"
          ]
        },
        {
          "output_type": "execute_result",
          "data": {
            "text/plain": [
              "[<matplotlib.lines.Line2D at 0x7f94ec16d100>]"
            ]
          },
          "metadata": {},
          "execution_count": 100
        },
        {
          "output_type": "stream",
          "name": "stdout",
          "text": [
            "currLoss 5244.345279942447\n",
            "deltaLoss 14.36881408994941\n",
            "weightUpdate -0.008160680796042994\n"
          ]
        },
        {
          "output_type": "execute_result",
          "data": {
            "text/plain": [
              "[<matplotlib.lines.Line2D at 0x7f94ec16d5b0>]"
            ]
          },
          "metadata": {},
          "execution_count": 100
        },
        {
          "output_type": "stream",
          "name": "stdout",
          "text": [
            "currLoss 5230.01573115892\n",
            "deltaLoss 14.329548783526661\n",
            "weightUpdate -0.008149527865621732\n"
          ]
        },
        {
          "output_type": "execute_result",
          "data": {
            "text/plain": [
              "[<matplotlib.lines.Line2D at 0x7f94ec16d910>]"
            ]
          },
          "metadata": {},
          "execution_count": 100
        },
        {
          "output_type": "stream",
          "name": "stdout",
          "text": [
            "currLoss 5215.725340406219\n",
            "deltaLoss 14.29039075270066\n",
            "weightUpdate -0.008138390177538719\n"
          ]
        },
        {
          "output_type": "execute_result",
          "data": {
            "text/plain": [
              "[<matplotlib.lines.Line2D at 0x7f94ec16dc70>]"
            ]
          },
          "metadata": {},
          "execution_count": 100
        },
        {
          "output_type": "stream",
          "name": "stdout",
          "text": [
            "currLoss 5201.474000701806\n",
            "deltaLoss 14.251339704413112\n",
            "weightUpdate -0.008127267710962748\n"
          ]
        },
        {
          "output_type": "execute_result",
          "data": {
            "text/plain": [
              "[<matplotlib.lines.Line2D at 0x7f94ec16dfd0>]"
            ]
          },
          "metadata": {},
          "execution_count": 100
        },
        {
          "output_type": "stream",
          "name": "stdout",
          "text": [
            "currLoss 5187.261605355392\n",
            "deltaLoss 14.212395346414269\n",
            "weightUpdate -0.0081161604450911\n"
          ]
        },
        {
          "output_type": "execute_result",
          "data": {
            "text/plain": [
              "[<matplotlib.lines.Line2D at 0x7f94ec172370>]"
            ]
          },
          "metadata": {},
          "execution_count": 100
        },
        {
          "output_type": "stream",
          "name": "stdout",
          "text": [
            "currLoss 5173.088047968142\n",
            "deltaLoss 14.173557387250185\n",
            "weightUpdate -0.008105068359149474\n"
          ]
        },
        {
          "output_type": "execute_result",
          "data": {
            "text/plain": [
              "[<matplotlib.lines.Line2D at 0x7f94ec1726d0>]"
            ]
          },
          "metadata": {},
          "execution_count": 100
        },
        {
          "output_type": "stream",
          "name": "stdout",
          "text": [
            "currLoss 5158.953222431875\n",
            "deltaLoss 14.134825536267272\n",
            "weightUpdate -0.00809399143239197\n"
          ]
        },
        {
          "output_type": "execute_result",
          "data": {
            "text/plain": [
              "[<matplotlib.lines.Line2D at 0x7f94ec172a30>]"
            ]
          },
          "metadata": {},
          "execution_count": 100
        },
        {
          "output_type": "stream",
          "name": "stdout",
          "text": [
            "currLoss 5144.85702292828\n",
            "deltaLoss 14.096199503595017\n",
            "weightUpdate -0.008082929644101032\n"
          ]
        },
        {
          "output_type": "execute_result",
          "data": {
            "text/plain": [
              "[<matplotlib.lines.Line2D at 0x7f94ec172d90>]"
            ]
          },
          "metadata": {},
          "execution_count": 100
        },
        {
          "output_type": "stream",
          "name": "stdout",
          "text": [
            "currLoss 5130.799343928109\n",
            "deltaLoss 14.057679000170538\n",
            "weightUpdate -0.008071882973587428\n"
          ]
        },
        {
          "output_type": "execute_result",
          "data": {
            "text/plain": [
              "[<matplotlib.lines.Line2D at 0x7f94ec172fa0>]"
            ]
          },
          "metadata": {},
          "execution_count": 100
        },
        {
          "output_type": "stream",
          "name": "stdout",
          "text": [
            "currLoss 5116.7800801904\n",
            "deltaLoss 14.01926373770857\n",
            "weightUpdate -0.008060851400190194\n"
          ]
        },
        {
          "output_type": "execute_result",
          "data": {
            "text/plain": [
              "[<matplotlib.lines.Line2D at 0x7f94ec17e490>]"
            ]
          },
          "metadata": {},
          "execution_count": 100
        },
        {
          "output_type": "stream",
          "name": "stdout",
          "text": [
            "currLoss 5102.799126761688\n",
            "deltaLoss 13.980953428712382\n",
            "weightUpdate -0.0080498349032766\n"
          ]
        },
        {
          "output_type": "execute_result",
          "data": {
            "text/plain": [
              "[<matplotlib.lines.Line2D at 0x7f94ec17e7f0>]"
            ]
          },
          "metadata": {},
          "execution_count": 100
        },
        {
          "output_type": "stream",
          "name": "stdout",
          "text": [
            "currLoss 5088.85637897521\n",
            "deltaLoss 13.942747786478321\n",
            "weightUpdate -0.008038833462242123\n"
          ]
        },
        {
          "output_type": "execute_result",
          "data": {
            "text/plain": [
              "[<matplotlib.lines.Line2D at 0x7f94ec17eb50>]"
            ]
          },
          "metadata": {},
          "execution_count": 100
        },
        {
          "output_type": "stream",
          "name": "stdout",
          "text": [
            "currLoss 5074.951732450132\n",
            "deltaLoss 13.904646525077624\n",
            "weightUpdate -0.008027847056510391\n"
          ]
        },
        {
          "output_type": "execute_result",
          "data": {
            "text/plain": [
              "[<matplotlib.lines.Line2D at 0x7f94ec17eeb0>]"
            ]
          },
          "metadata": {},
          "execution_count": 100
        },
        {
          "output_type": "stream",
          "name": "stdout",
          "text": [
            "currLoss 5061.085083090772\n",
            "deltaLoss 13.866649359360053\n",
            "weightUpdate -0.00801687566553316\n"
          ]
        },
        {
          "output_type": "execute_result",
          "data": {
            "text/plain": [
              "[<matplotlib.lines.Line2D at 0x7f94ec18c100>]"
            ]
          },
          "metadata": {},
          "execution_count": 100
        },
        {
          "output_type": "stream",
          "name": "stdout",
          "text": [
            "currLoss 5047.256327085803\n",
            "deltaLoss 13.828756004969364\n",
            "weightUpdate -0.008005919268790265\n"
          ]
        },
        {
          "output_type": "execute_result",
          "data": {
            "text/plain": [
              "[<matplotlib.lines.Line2D at 0x7f94ec18c5b0>]"
            ]
          },
          "metadata": {},
          "execution_count": 100
        },
        {
          "output_type": "stream",
          "name": "stdout",
          "text": [
            "currLoss 5033.465360907486\n",
            "deltaLoss 13.790966178316921\n",
            "weightUpdate -0.007994977845789586\n"
          ]
        },
        {
          "output_type": "execute_result",
          "data": {
            "text/plain": [
              "[<matplotlib.lines.Line2D at 0x7f94ec18c910>]"
            ]
          },
          "metadata": {},
          "execution_count": 100
        },
        {
          "output_type": "stream",
          "name": "stdout",
          "text": [
            "currLoss 5019.71208131091\n",
            "deltaLoss 13.75327959657534\n",
            "weightUpdate -0.007984051376067006\n"
          ]
        },
        {
          "output_type": "execute_result",
          "data": {
            "text/plain": [
              "[<matplotlib.lines.Line2D at 0x7f94ec18cc70>]"
            ]
          },
          "metadata": {},
          "execution_count": 100
        },
        {
          "output_type": "stream",
          "name": "stdout",
          "text": [
            "currLoss 5005.99638533319\n",
            "deltaLoss 13.715695977720316\n",
            "weightUpdate -0.00797313983918638\n"
          ]
        },
        {
          "output_type": "execute_result",
          "data": {
            "text/plain": [
              "[<matplotlib.lines.Line2D at 0x7f94ec18cfd0>]"
            ]
          },
          "metadata": {},
          "execution_count": 100
        },
        {
          "output_type": "stream",
          "name": "stdout",
          "text": [
            "currLoss 4992.318170292722\n",
            "deltaLoss 13.678215040467876\n",
            "weightUpdate -0.007962243214739494\n"
          ]
        },
        {
          "output_type": "execute_result",
          "data": {
            "text/plain": [
              "[<matplotlib.lines.Line2D at 0x7f94ec19a370>]"
            ]
          },
          "metadata": {},
          "execution_count": 100
        },
        {
          "output_type": "stream",
          "name": "stdout",
          "text": [
            "currLoss 4978.677333788404\n",
            "deltaLoss 13.640836504318031\n",
            "weightUpdate -0.007951361482346016\n"
          ]
        },
        {
          "output_type": "execute_result",
          "data": {
            "text/plain": [
              "[<matplotlib.lines.Line2D at 0x7f94ec19a6d0>]"
            ]
          },
          "metadata": {},
          "execution_count": 100
        },
        {
          "output_type": "stream",
          "name": "stdout",
          "text": [
            "currLoss 4965.0737736988685\n",
            "deltaLoss 13.603560089535677\n",
            "weightUpdate -0.007940494621653475\n"
          ]
        },
        {
          "output_type": "execute_result",
          "data": {
            "text/plain": [
              "[<matplotlib.lines.Line2D at 0x7f94ec19aa30>]"
            ]
          },
          "metadata": {},
          "execution_count": 100
        },
        {
          "output_type": "stream",
          "name": "stdout",
          "text": [
            "currLoss 4951.507388181721\n",
            "deltaLoss 13.566385517147864\n",
            "weightUpdate -0.007929642612337215\n"
          ]
        },
        {
          "output_type": "execute_result",
          "data": {
            "text/plain": [
              "[<matplotlib.lines.Line2D at 0x7f94ec19ad90>]"
            ]
          },
          "metadata": {},
          "execution_count": 100
        },
        {
          "output_type": "stream",
          "name": "stdout",
          "text": [
            "currLoss 4937.9780756727805\n",
            "deltaLoss 13.529312508940166\n",
            "weightUpdate -0.007918805434100354\n"
          ]
        },
        {
          "output_type": "execute_result",
          "data": {
            "text/plain": [
              "[<matplotlib.lines.Line2D at 0x7f94ec19afa0>]"
            ]
          },
          "metadata": {},
          "execution_count": 100
        },
        {
          "output_type": "stream",
          "name": "stdout",
          "text": [
            "currLoss 4924.48573488531\n",
            "deltaLoss 13.492340787470312\n",
            "weightUpdate -0.007907983066673752\n"
          ]
        },
        {
          "output_type": "execute_result",
          "data": {
            "text/plain": [
              "[<matplotlib.lines.Line2D at 0x7f94ec122490>]"
            ]
          },
          "metadata": {},
          "execution_count": 100
        },
        {
          "output_type": "stream",
          "name": "stdout",
          "text": [
            "currLoss 4911.030264809273\n",
            "deltaLoss 13.455470076037273\n",
            "weightUpdate -0.007897175489815963\n"
          ]
        },
        {
          "output_type": "execute_result",
          "data": {
            "text/plain": [
              "[<matplotlib.lines.Line2D at 0x7f94ec1227f0>]"
            ]
          },
          "metadata": {},
          "execution_count": 100
        },
        {
          "output_type": "stream",
          "name": "stdout",
          "text": [
            "currLoss 4897.611564710565\n",
            "deltaLoss 13.418700098707632\n",
            "weightUpdate -0.007886382683313214\n"
          ]
        },
        {
          "output_type": "execute_result",
          "data": {
            "text/plain": [
              "[<matplotlib.lines.Line2D at 0x7f94ec122b50>]"
            ]
          },
          "metadata": {},
          "execution_count": 100
        },
        {
          "output_type": "stream",
          "name": "stdout",
          "text": [
            "currLoss 4884.229534130267\n",
            "deltaLoss 13.382030580298306\n",
            "weightUpdate -0.007875604626979352\n"
          ]
        },
        {
          "output_type": "execute_result",
          "data": {
            "text/plain": [
              "[<matplotlib.lines.Line2D at 0x7f94ec122eb0>]"
            ]
          },
          "metadata": {},
          "execution_count": 100
        },
        {
          "output_type": "stream",
          "name": "stdout",
          "text": [
            "currLoss 4870.884072883892\n",
            "deltaLoss 13.345461246374725\n",
            "weightUpdate -0.007864841300655812\n"
          ]
        },
        {
          "output_type": "execute_result",
          "data": {
            "text/plain": [
              "[<matplotlib.lines.Line2D at 0x7f94ec139100>]"
            ]
          },
          "metadata": {},
          "execution_count": 100
        },
        {
          "output_type": "stream",
          "name": "stdout",
          "text": [
            "currLoss 4857.57508106063\n",
            "deltaLoss 13.308991823262659\n",
            "weightUpdate -0.007854092684211583\n"
          ]
        },
        {
          "output_type": "execute_result",
          "data": {
            "text/plain": [
              "[<matplotlib.lines.Line2D at 0x7f94ec1395b0>]"
            ]
          },
          "metadata": {},
          "execution_count": 100
        },
        {
          "output_type": "stream",
          "name": "stdout",
          "text": [
            "currLoss 4844.3024590226105\n",
            "deltaLoss 13.272622038019108\n",
            "weightUpdate -0.00784335875754316\n"
          ]
        },
        {
          "output_type": "execute_result",
          "data": {
            "text/plain": [
              "[<matplotlib.lines.Line2D at 0x7f94ec139910>]"
            ]
          },
          "metadata": {},
          "execution_count": 100
        },
        {
          "output_type": "stream",
          "name": "stdout",
          "text": [
            "currLoss 4831.0661074041545\n",
            "deltaLoss 13.236351618455956\n",
            "weightUpdate -0.007832639500574516\n"
          ]
        },
        {
          "output_type": "execute_result",
          "data": {
            "text/plain": [
              "[<matplotlib.lines.Line2D at 0x7f94ec139c70>]"
            ]
          },
          "metadata": {},
          "execution_count": 100
        },
        {
          "output_type": "stream",
          "name": "stdout",
          "text": [
            "currLoss 4817.865927111017\n",
            "deltaLoss 13.200180293137237\n",
            "weightUpdate -0.007821934893257066\n"
          ]
        },
        {
          "output_type": "execute_result",
          "data": {
            "text/plain": [
              "[<matplotlib.lines.Line2D at 0x7f94ec139fd0>]"
            ]
          },
          "metadata": {},
          "execution_count": 100
        },
        {
          "output_type": "stream",
          "name": "stdout",
          "text": [
            "currLoss 4804.701819319667\n",
            "deltaLoss 13.164107791350034\n",
            "weightUpdate -0.007811244915569615\n"
          ]
        },
        {
          "output_type": "execute_result",
          "data": {
            "text/plain": [
              "[<matplotlib.lines.Line2D at 0x7f94ec13b370>]"
            ]
          },
          "metadata": {},
          "execution_count": 100
        },
        {
          "output_type": "stream",
          "name": "stdout",
          "text": [
            "currLoss 4791.573685476537\n",
            "deltaLoss 13.128133843129945\n",
            "weightUpdate -0.0078005695475183365\n"
          ]
        },
        {
          "output_type": "execute_result",
          "data": {
            "text/plain": [
              "[<matplotlib.lines.Line2D at 0x7f94ec13b6d0>]"
            ]
          },
          "metadata": {},
          "execution_count": 100
        },
        {
          "output_type": "stream",
          "name": "stdout",
          "text": [
            "currLoss 4778.481427297276\n",
            "deltaLoss 13.09225817926108\n",
            "weightUpdate -0.007789908769136728\n"
          ]
        },
        {
          "output_type": "execute_result",
          "data": {
            "text/plain": [
              "[<matplotlib.lines.Line2D at 0x7f94ec13ba30>]"
            ]
          },
          "metadata": {},
          "execution_count": 100
        },
        {
          "output_type": "stream",
          "name": "stdout",
          "text": [
            "currLoss 4765.4249467660375\n",
            "deltaLoss 13.056480531238776\n",
            "weightUpdate -0.007779262560485574\n"
          ]
        },
        {
          "output_type": "execute_result",
          "data": {
            "text/plain": [
              "[<matplotlib.lines.Line2D at 0x7f94ec13bd90>]"
            ]
          },
          "metadata": {},
          "execution_count": 100
        },
        {
          "output_type": "stream",
          "name": "stdout",
          "text": [
            "currLoss 4752.404146134726\n",
            "deltaLoss 13.020800631311431\n",
            "weightUpdate -0.00776863090165291\n"
          ]
        },
        {
          "output_type": "execute_result",
          "data": {
            "text/plain": [
              "[<matplotlib.lines.Line2D at 0x7f94ec13bfa0>]"
            ]
          },
          "metadata": {},
          "execution_count": 100
        },
        {
          "output_type": "stream",
          "name": "stdout",
          "text": [
            "currLoss 4739.418927922274\n",
            "deltaLoss 12.98521821245231\n",
            "weightUpdate -0.007758013772753983\n"
          ]
        },
        {
          "output_type": "execute_result",
          "data": {
            "text/plain": [
              "[<matplotlib.lines.Line2D at 0x7f94ec13e490>]"
            ]
          },
          "metadata": {},
          "execution_count": 100
        },
        {
          "output_type": "stream",
          "name": "stdout",
          "text": [
            "currLoss 4726.469194913911\n",
            "deltaLoss 12.949733008362273\n",
            "weightUpdate -0.007747411153931219\n"
          ]
        },
        {
          "output_type": "execute_result",
          "data": {
            "text/plain": [
              "[<matplotlib.lines.Line2D at 0x7f94ec13e7f0>]"
            ]
          },
          "metadata": {},
          "execution_count": 100
        },
        {
          "output_type": "stream",
          "name": "stdout",
          "text": [
            "currLoss 4713.554850160438\n",
            "deltaLoss 12.914344753473415\n",
            "weightUpdate -0.007736823025354181\n"
          ]
        },
        {
          "output_type": "execute_result",
          "data": {
            "text/plain": [
              "[<matplotlib.lines.Line2D at 0x7f94ec13eb50>]"
            ]
          },
          "metadata": {},
          "execution_count": 100
        },
        {
          "output_type": "stream",
          "name": "stdout",
          "text": [
            "currLoss 4700.675796977496\n",
            "deltaLoss 12.879053182941789\n",
            "weightUpdate -0.007726249367219529\n"
          ]
        },
        {
          "output_type": "execute_result",
          "data": {
            "text/plain": [
              "[<matplotlib.lines.Line2D at 0x7f94ec13eeb0>]"
            ]
          },
          "metadata": {},
          "execution_count": 100
        },
        {
          "output_type": "stream",
          "name": "stdout",
          "text": [
            "currLoss 4687.831938944851\n",
            "deltaLoss 12.843858032645585\n",
            "weightUpdate -0.007715690159750996\n"
          ]
        },
        {
          "output_type": "execute_result",
          "data": {
            "text/plain": [
              "[<matplotlib.lines.Line2D at 0x7f94ec15c100>]"
            ]
          },
          "metadata": {},
          "execution_count": 100
        },
        {
          "output_type": "stream",
          "name": "stdout",
          "text": [
            "currLoss 4675.0231799056655\n",
            "deltaLoss 12.808759039185134\n",
            "weightUpdate -0.007705145383199337\n"
          ]
        },
        {
          "output_type": "execute_result",
          "data": {
            "text/plain": [
              "[<matplotlib.lines.Line2D at 0x7f94ec15c5b0>]"
            ]
          },
          "metadata": {},
          "execution_count": 100
        },
        {
          "output_type": "stream",
          "name": "stdout",
          "text": [
            "currLoss 4662.249423965784\n",
            "deltaLoss 12.773755939881084\n",
            "weightUpdate -0.007694615017842298\n"
          ]
        },
        {
          "output_type": "execute_result",
          "data": {
            "text/plain": [
              "[<matplotlib.lines.Line2D at 0x7f94ec15c910>]"
            ]
          },
          "metadata": {},
          "execution_count": 100
        },
        {
          "output_type": "stream",
          "name": "stdout",
          "text": [
            "currLoss 4649.510575493012\n",
            "deltaLoss 12.738848472772588\n",
            "weightUpdate -0.0076840990439845805\n"
          ]
        },
        {
          "output_type": "execute_result",
          "data": {
            "text/plain": [
              "[<matplotlib.lines.Line2D at 0x7f94ec15cc70>]"
            ]
          },
          "metadata": {},
          "execution_count": 100
        },
        {
          "output_type": "stream",
          "name": "stdout",
          "text": [
            "currLoss 4636.806539116402\n",
            "deltaLoss 12.70403637661002\n",
            "weightUpdate -0.007673597441957802\n"
          ]
        },
        {
          "output_type": "execute_result",
          "data": {
            "text/plain": [
              "[<matplotlib.lines.Line2D at 0x7f94ec15cfd0>]"
            ]
          },
          "metadata": {},
          "execution_count": 100
        },
        {
          "output_type": "stream",
          "name": "stdout",
          "text": [
            "currLoss 4624.137219725539\n",
            "deltaLoss 12.669319390863166\n",
            "weightUpdate -0.007663110192120459\n"
          ]
        },
        {
          "output_type": "execute_result",
          "data": {
            "text/plain": [
              "[<matplotlib.lines.Line2D at 0x7f94ec0e7370>]"
            ]
          },
          "metadata": {},
          "execution_count": 100
        },
        {
          "output_type": "stream",
          "name": "stdout",
          "text": [
            "currLoss 4611.502522469832\n",
            "deltaLoss 12.63469725570667\n",
            "weightUpdate -0.007652637274857894\n"
          ]
        },
        {
          "output_type": "execute_result",
          "data": {
            "text/plain": [
              "[<matplotlib.lines.Line2D at 0x7f94ec0e76d0>]"
            ]
          },
          "metadata": {},
          "execution_count": 100
        },
        {
          "output_type": "stream",
          "name": "stdout",
          "text": [
            "currLoss 4598.902352757797\n",
            "deltaLoss 12.600169712034585\n",
            "weightUpdate -0.007642178670582257\n"
          ]
        },
        {
          "output_type": "execute_result",
          "data": {
            "text/plain": [
              "[<matplotlib.lines.Line2D at 0x7f94ec0e7a30>]"
            ]
          },
          "metadata": {},
          "execution_count": 100
        },
        {
          "output_type": "stream",
          "name": "stdout",
          "text": [
            "currLoss 4586.336616256359\n",
            "deltaLoss 12.56573650143855\n",
            "weightUpdate -0.00763173435973246\n"
          ]
        },
        {
          "output_type": "execute_result",
          "data": {
            "text/plain": [
              "[<matplotlib.lines.Line2D at 0x7f94ec0e7d90>]"
            ]
          },
          "metadata": {},
          "execution_count": 100
        },
        {
          "output_type": "stream",
          "name": "stdout",
          "text": [
            "currLoss 4573.8052188901365\n",
            "deltaLoss 12.531397366222336\n",
            "weightUpdate -0.00762130432277416\n"
          ]
        },
        {
          "output_type": "execute_result",
          "data": {
            "text/plain": [
              "[<matplotlib.lines.Line2D at 0x7f94ec0e7fa0>]"
            ]
          },
          "metadata": {},
          "execution_count": 100
        },
        {
          "output_type": "stream",
          "name": "stdout",
          "text": [
            "currLoss 4561.308066840746\n",
            "deltaLoss 12.497152049390934\n",
            "weightUpdate -0.0076108885401997015\n"
          ]
        },
        {
          "output_type": "execute_result",
          "data": {
            "text/plain": [
              "[<matplotlib.lines.Line2D at 0x7f94ec0e6490>]"
            ]
          },
          "metadata": {},
          "execution_count": 100
        },
        {
          "output_type": "stream",
          "name": "stdout",
          "text": [
            "currLoss 4548.845066546092\n",
            "deltaLoss 12.463000294653284\n",
            "weightUpdate -0.007600486992528096\n"
          ]
        },
        {
          "output_type": "execute_result",
          "data": {
            "text/plain": [
              "[<matplotlib.lines.Line2D at 0x7f94ec0e67f0>]"
            ]
          },
          "metadata": {},
          "execution_count": 100
        },
        {
          "output_type": "stream",
          "name": "stdout",
          "text": [
            "currLoss 4536.416124699675\n",
            "deltaLoss 12.428941846417729\n",
            "weightUpdate -0.007590099660304974\n"
          ]
        },
        {
          "output_type": "execute_result",
          "data": {
            "text/plain": [
              "[<matplotlib.lines.Line2D at 0x7f94ec0e6b50>]"
            ]
          },
          "metadata": {},
          "execution_count": 100
        },
        {
          "output_type": "stream",
          "name": "stdout",
          "text": [
            "currLoss 4524.021148249885\n",
            "deltaLoss 12.394976449789283\n",
            "weightUpdate -0.007579726524102556\n"
          ]
        },
        {
          "output_type": "execute_result",
          "data": {
            "text/plain": [
              "[<matplotlib.lines.Line2D at 0x7f94ec0e6d00>]"
            ]
          },
          "metadata": {},
          "execution_count": 100
        },
        {
          "output_type": "stream",
          "name": "stdout",
          "text": [
            "currLoss 4511.660044399316\n",
            "deltaLoss 12.361103850569634\n",
            "weightUpdate -0.0075693675645196155\n"
          ]
        },
        {
          "output_type": "execute_result",
          "data": {
            "text/plain": [
              "[<matplotlib.lines.Line2D at 0x7f94ec0ff0d0>]"
            ]
          },
          "metadata": {},
          "execution_count": 100
        },
        {
          "output_type": "stream",
          "name": "stdout",
          "text": [
            "currLoss 4499.3327206040585\n",
            "deltaLoss 12.327323795257144\n",
            "weightUpdate -0.00755902276218144\n"
          ]
        },
        {
          "output_type": "execute_result",
          "data": {
            "text/plain": [
              "[<matplotlib.lines.Line2D at 0x7f94ec0ff580>]"
            ]
          },
          "metadata": {},
          "execution_count": 100
        },
        {
          "output_type": "stream",
          "name": "stdout",
          "text": [
            "currLoss 4487.039084573016\n",
            "deltaLoss 12.293636031042297\n",
            "weightUpdate -0.007548692097739792\n"
          ]
        },
        {
          "output_type": "execute_result",
          "data": {
            "text/plain": [
              "[<matplotlib.lines.Line2D at 0x7f94ec0ff8e0>]"
            ]
          },
          "metadata": {},
          "execution_count": 100
        },
        {
          "output_type": "stream",
          "name": "stdout",
          "text": [
            "currLoss 4474.779044267212\n",
            "deltaLoss 12.260040305804068\n",
            "weightUpdate -0.007538375551872881\n"
          ]
        },
        {
          "output_type": "execute_result",
          "data": {
            "text/plain": [
              "[<matplotlib.lines.Line2D at 0x7f94ec0ffc70>]"
            ]
          },
          "metadata": {},
          "execution_count": 100
        },
        {
          "output_type": "stream",
          "name": "stdout",
          "text": [
            "currLoss 4462.552507899103\n",
            "deltaLoss 12.22653636810901\n",
            "weightUpdate -0.007528073105285323\n"
          ]
        },
        {
          "output_type": "execute_result",
          "data": {
            "text/plain": [
              "[<matplotlib.lines.Line2D at 0x7f94ec0fffd0>]"
            ]
          },
          "metadata": {},
          "execution_count": 100
        },
        {
          "output_type": "stream",
          "name": "stdout",
          "text": [
            "currLoss 4450.359383931889\n",
            "deltaLoss 12.193123967213978\n",
            "weightUpdate -0.007517784738708099\n"
          ]
        },
        {
          "output_type": "execute_result",
          "data": {
            "text/plain": [
              "[<matplotlib.lines.Line2D at 0x7f94ec0e5370>]"
            ]
          },
          "metadata": {},
          "execution_count": 100
        },
        {
          "output_type": "stream",
          "name": "stdout",
          "text": [
            "currLoss 4438.199581078828\n",
            "deltaLoss 12.159802853061592\n",
            "weightUpdate -0.0075075104328985315\n"
          ]
        },
        {
          "output_type": "execute_result",
          "data": {
            "text/plain": [
              "[<matplotlib.lines.Line2D at 0x7f94ec0e56d0>]"
            ]
          },
          "metadata": {},
          "execution_count": 100
        },
        {
          "output_type": "stream",
          "name": "stdout",
          "text": [
            "currLoss 4426.073008302555\n",
            "deltaLoss 12.126572776272951\n",
            "weightUpdate -0.007497250168640238\n"
          ]
        },
        {
          "output_type": "execute_result",
          "data": {
            "text/plain": [
              "[<matplotlib.lines.Line2D at 0x7f94ec0e5a30>]"
            ]
          },
          "metadata": {},
          "execution_count": 100
        },
        {
          "output_type": "stream",
          "name": "stdout",
          "text": [
            "currLoss 4413.979574814402\n",
            "deltaLoss 12.093433488152186\n",
            "weightUpdate -0.007487003926743095\n"
          ]
        },
        {
          "output_type": "execute_result",
          "data": {
            "text/plain": [
              "[<matplotlib.lines.Line2D at 0x7f94ec0e5d90>]"
            ]
          },
          "metadata": {},
          "execution_count": 100
        },
        {
          "output_type": "stream",
          "name": "stdout",
          "text": [
            "currLoss 4401.91919007372\n",
            "deltaLoss 12.06038474068282\n",
            "weightUpdate -0.007476771688043213\n"
          ]
        },
        {
          "output_type": "execute_result",
          "data": {
            "text/plain": [
              "[<matplotlib.lines.Line2D at 0x7f94ec0e5fa0>]"
            ]
          },
          "metadata": {},
          "execution_count": 100
        },
        {
          "output_type": "stream",
          "name": "stdout",
          "text": [
            "currLoss 4389.891763787187\n",
            "deltaLoss 12.027426286532318\n",
            "weightUpdate -0.007466553433402889\n"
          ]
        },
        {
          "output_type": "execute_result",
          "data": {
            "text/plain": [
              "[<matplotlib.lines.Line2D at 0x7f94ec102490>]"
            ]
          },
          "metadata": {},
          "execution_count": 100
        },
        {
          "output_type": "stream",
          "name": "stdout",
          "text": [
            "currLoss 4377.897205908157\n",
            "deltaLoss 11.994557879030253\n",
            "weightUpdate -0.007456349143710571\n"
          ]
        },
        {
          "output_type": "execute_result",
          "data": {
            "text/plain": [
              "[<matplotlib.lines.Line2D at 0x7f94ec1027f0>]"
            ]
          },
          "metadata": {},
          "execution_count": 100
        },
        {
          "output_type": "stream",
          "name": "stdout",
          "text": [
            "currLoss 4365.935426635968\n",
            "deltaLoss 11.961779272189233\n",
            "weightUpdate -0.007446158799880834\n"
          ]
        },
        {
          "output_type": "execute_result",
          "data": {
            "text/plain": [
              "[<matplotlib.lines.Line2D at 0x7f94ec102b50>]"
            ]
          },
          "metadata": {},
          "execution_count": 100
        },
        {
          "output_type": "stream",
          "name": "stdout",
          "text": [
            "currLoss 4354.00633641527\n",
            "deltaLoss 11.929090220697617\n",
            "weightUpdate -0.007435982382854329\n"
          ]
        },
        {
          "output_type": "execute_result",
          "data": {
            "text/plain": [
              "[<matplotlib.lines.Line2D at 0x7f94ec102eb0>]"
            ]
          },
          "metadata": {},
          "execution_count": 100
        },
        {
          "output_type": "stream",
          "name": "stdout",
          "text": [
            "currLoss 4342.109845935371\n",
            "deltaLoss 11.896490479899512\n",
            "weightUpdate -0.00742581987359776\n"
          ]
        },
        {
          "output_type": "execute_result",
          "data": {
            "text/plain": [
              "[<matplotlib.lines.Line2D at 0x7f94ec115100>]"
            ]
          },
          "metadata": {},
          "execution_count": 100
        },
        {
          "output_type": "stream",
          "name": "stdout",
          "text": [
            "currLoss 4330.245866129548\n",
            "deltaLoss 11.863979805822964\n",
            "weightUpdate -0.007415671253103844\n"
          ]
        },
        {
          "output_type": "execute_result",
          "data": {
            "text/plain": [
              "[<matplotlib.lines.Line2D at 0x7f94ec1155b0>]"
            ]
          },
          "metadata": {},
          "execution_count": 100
        },
        {
          "output_type": "stream",
          "name": "stdout",
          "text": [
            "currLoss 4318.414308174393\n",
            "deltaLoss 11.831557955154494\n",
            "weightUpdate -0.007405536502391271\n"
          ]
        },
        {
          "output_type": "execute_result",
          "data": {
            "text/plain": [
              "[<matplotlib.lines.Line2D at 0x7f94ec115910>]"
            ]
          },
          "metadata": {},
          "execution_count": 100
        },
        {
          "output_type": "stream",
          "name": "stdout",
          "text": [
            "currLoss 4306.61508348915\n",
            "deltaLoss 11.799224685243644\n",
            "weightUpdate -0.007395415602504669\n"
          ]
        },
        {
          "output_type": "execute_result",
          "data": {
            "text/plain": [
              "[<matplotlib.lines.Line2D at 0x7f94ec115c70>]"
            ]
          },
          "metadata": {},
          "execution_count": 100
        },
        {
          "output_type": "stream",
          "name": "stdout",
          "text": [
            "currLoss 4294.848103735039\n",
            "deltaLoss 11.766979754110253\n",
            "weightUpdate -0.007385308534514579\n"
          ]
        },
        {
          "output_type": "execute_result",
          "data": {
            "text/plain": [
              "[<matplotlib.lines.Line2D at 0x7f94ec115fd0>]"
            ]
          },
          "metadata": {},
          "execution_count": 100
        },
        {
          "output_type": "stream",
          "name": "stdout",
          "text": [
            "currLoss 4283.113280814615\n",
            "deltaLoss 11.734822920424449\n",
            "weightUpdate -0.007375215279517409\n"
          ]
        },
        {
          "output_type": "execute_result",
          "data": {
            "text/plain": [
              "[<matplotlib.lines.Line2D at 0x7f94ec0a9370>]"
            ]
          },
          "metadata": {},
          "execution_count": 100
        },
        {
          "output_type": "stream",
          "name": "stdout",
          "text": [
            "currLoss 4271.410526871085\n",
            "deltaLoss 11.702753943530297\n",
            "weightUpdate -0.007365135818635402\n"
          ]
        },
        {
          "output_type": "execute_result",
          "data": {
            "text/plain": [
              "[<matplotlib.lines.Line2D at 0x7f94ec0a96d0>]"
            ]
          },
          "metadata": {},
          "execution_count": 100
        },
        {
          "output_type": "stream",
          "name": "stdout",
          "text": [
            "currLoss 4259.739754287675\n",
            "deltaLoss 11.670772583409416\n",
            "weightUpdate -0.0073550701330165995\n"
          ]
        },
        {
          "output_type": "execute_result",
          "data": {
            "text/plain": [
              "[<matplotlib.lines.Line2D at 0x7f94ec0a9a30>]"
            ]
          },
          "metadata": {},
          "execution_count": 100
        },
        {
          "output_type": "stream",
          "name": "stdout",
          "text": [
            "currLoss 4248.100875686957\n",
            "deltaLoss 11.638878600718272\n",
            "weightUpdate -0.007345018203834811\n"
          ]
        },
        {
          "output_type": "execute_result",
          "data": {
            "text/plain": [
              "[<matplotlib.lines.Line2D at 0x7f94ec0a9d90>]"
            ]
          },
          "metadata": {},
          "execution_count": 100
        },
        {
          "output_type": "stream",
          "name": "stdout",
          "text": [
            "currLoss 4236.493803930196\n",
            "deltaLoss 11.607071756760888\n",
            "weightUpdate -0.007334980012289571\n"
          ]
        },
        {
          "output_type": "execute_result",
          "data": {
            "text/plain": [
              "[<matplotlib.lines.Line2D at 0x7f94ec0a9fa0>]"
            ]
          },
          "metadata": {},
          "execution_count": 100
        },
        {
          "output_type": "stream",
          "name": "stdout",
          "text": [
            "currLoss 4224.918452116714\n",
            "deltaLoss 11.575351813481575\n",
            "weightUpdate -0.007324955539606107\n"
          ]
        },
        {
          "output_type": "execute_result",
          "data": {
            "text/plain": [
              "[<matplotlib.lines.Line2D at 0x7f94ec0a8490>]"
            ]
          },
          "metadata": {},
          "execution_count": 100
        },
        {
          "output_type": "stream",
          "name": "stdout",
          "text": [
            "currLoss 4213.3747335832195\n",
            "deltaLoss 11.543718533494939\n",
            "weightUpdate -0.007314944767035312\n"
          ]
        },
        {
          "output_type": "execute_result",
          "data": {
            "text/plain": [
              "[<matplotlib.lines.Line2D at 0x7f94ec0a86d0>]"
            ]
          },
          "metadata": {},
          "execution_count": 100
        },
        {
          "output_type": "stream",
          "name": "stdout",
          "text": [
            "currLoss 4201.862561903169\n",
            "deltaLoss 11.512171680050415\n",
            "weightUpdate -0.007304947675853699\n"
          ]
        },
        {
          "output_type": "execute_result",
          "data": {
            "text/plain": [
              "[<matplotlib.lines.Line2D at 0x7f94ec0a8b80>]"
            ]
          },
          "metadata": {},
          "execution_count": 100
        },
        {
          "output_type": "stream",
          "name": "stdout",
          "text": [
            "currLoss 4190.381850886122\n",
            "deltaLoss 11.480711017046815\n",
            "weightUpdate -0.007294964247363364\n"
          ]
        },
        {
          "output_type": "execute_result",
          "data": {
            "text/plain": [
              "[<matplotlib.lines.Line2D at 0x7f94ec0a8ee0>]"
            ]
          },
          "metadata": {},
          "execution_count": 100
        },
        {
          "output_type": "stream",
          "name": "stdout",
          "text": [
            "currLoss 4178.932514577095\n",
            "deltaLoss 11.449336309026876\n",
            "weightUpdate -0.0072849944628919664\n"
          ]
        },
        {
          "output_type": "execute_result",
          "data": {
            "text/plain": [
              "[<matplotlib.lines.Line2D at 0x7f94ec0b9130>]"
            ]
          },
          "metadata": {},
          "execution_count": 100
        },
        {
          "output_type": "stream",
          "name": "stdout",
          "text": [
            "currLoss 4167.514467255911\n",
            "deltaLoss 11.418047321184531\n",
            "weightUpdate -0.007275038303792682\n"
          ]
        },
        {
          "output_type": "execute_result",
          "data": {
            "text/plain": [
              "[<matplotlib.lines.Line2D at 0x7f94ec0b95e0>]"
            ]
          },
          "metadata": {},
          "execution_count": 100
        },
        {
          "output_type": "stream",
          "name": "stdout",
          "text": [
            "currLoss 4156.127623436566\n",
            "deltaLoss 11.386843819344904\n",
            "weightUpdate -0.007265095751444165\n"
          ]
        },
        {
          "output_type": "execute_result",
          "data": {
            "text/plain": [
              "[<matplotlib.lines.Line2D at 0x7f94ec0b9940>]"
            ]
          },
          "metadata": {},
          "execution_count": 100
        },
        {
          "output_type": "stream",
          "name": "stdout",
          "text": [
            "currLoss 4144.771897866591\n",
            "deltaLoss 11.35572556997522\n",
            "weightUpdate -0.007255166787250525\n"
          ]
        },
        {
          "output_type": "execute_result",
          "data": {
            "text/plain": [
              "[<matplotlib.lines.Line2D at 0x7f94ec0b9ca0>]"
            ]
          },
          "metadata": {},
          "execution_count": 100
        },
        {
          "output_type": "stream",
          "name": "stdout",
          "text": [
            "currLoss 4133.447205526405\n",
            "deltaLoss 11.32469234018572\n",
            "weightUpdate -0.007245251392641282\n"
          ]
        },
        {
          "output_type": "execute_result",
          "data": {
            "text/plain": [
              "[<matplotlib.lines.Line2D at 0x7f94ec0b9eb0>]"
            ]
          },
          "metadata": {},
          "execution_count": 100
        },
        {
          "output_type": "stream",
          "name": "stdout",
          "text": [
            "currLoss 4122.153461628685\n",
            "deltaLoss 11.29374389771965\n",
            "weightUpdate -0.00723534954907134\n"
          ]
        },
        {
          "output_type": "execute_result",
          "data": {
            "text/plain": [
              "[<matplotlib.lines.Line2D at 0x7f94ec0c63a0>]"
            ]
          },
          "metadata": {},
          "execution_count": 100
        },
        {
          "output_type": "stream",
          "name": "stdout",
          "text": [
            "currLoss 4110.890581617733\n",
            "deltaLoss 11.262880010952358\n",
            "weightUpdate -0.007225461238020943\n"
          ]
        },
        {
          "output_type": "execute_result",
          "data": {
            "text/plain": [
              "[<matplotlib.lines.Line2D at 0x7f94ec0c6700>]"
            ]
          },
          "metadata": {},
          "execution_count": 100
        },
        {
          "output_type": "stream",
          "name": "stdout",
          "text": [
            "currLoss 4099.658481168839\n",
            "deltaLoss 11.232100448894016\n",
            "weightUpdate -0.007215586440995647\n"
          ]
        },
        {
          "output_type": "execute_result",
          "data": {
            "text/plain": [
              "[<matplotlib.lines.Line2D at 0x7f94ec0c6a60>]"
            ]
          },
          "metadata": {},
          "execution_count": 100
        },
        {
          "output_type": "stream",
          "name": "stdout",
          "text": [
            "currLoss 4088.457076187649\n",
            "deltaLoss 11.20140498119008\n",
            "weightUpdate -0.007205725139526286\n"
          ]
        },
        {
          "output_type": "execute_result",
          "data": {
            "text/plain": [
              "[<matplotlib.lines.Line2D at 0x7f94ec0c6c70>]"
            ]
          },
          "metadata": {},
          "execution_count": 100
        },
        {
          "output_type": "stream",
          "name": "stdout",
          "text": [
            "currLoss 4077.286282809545\n",
            "deltaLoss 11.170793378104008\n",
            "weightUpdate -0.007195877315168933\n"
          ]
        },
        {
          "output_type": "execute_result",
          "data": {
            "text/plain": [
              "[<matplotlib.lines.Line2D at 0x7f94ec0da040>]"
            ]
          },
          "metadata": {},
          "execution_count": 100
        },
        {
          "output_type": "stream",
          "name": "stdout",
          "text": [
            "currLoss 4066.1460173990063\n",
            "deltaLoss 11.140265410538632\n",
            "weightUpdate -0.007186042949504869\n"
          ]
        },
        {
          "output_type": "execute_result",
          "data": {
            "text/plain": [
              "[<matplotlib.lines.Line2D at 0x7f94ec0da4f0>]"
            ]
          },
          "metadata": {},
          "execution_count": 100
        },
        {
          "output_type": "stream",
          "name": "stdout",
          "text": [
            "currLoss 4055.0361965489915\n",
            "deltaLoss 11.109820850014785\n",
            "weightUpdate -0.007176222024140545\n"
          ]
        },
        {
          "output_type": "execute_result",
          "data": {
            "text/plain": [
              "[<matplotlib.lines.Line2D at 0x7f94ec0da850>]"
            ]
          },
          "metadata": {},
          "execution_count": 100
        },
        {
          "output_type": "stream",
          "name": "stdout",
          "text": [
            "currLoss 4043.956737080306\n",
            "deltaLoss 11.0794594686854\n",
            "weightUpdate -0.007166414520707553\n"
          ]
        },
        {
          "output_type": "execute_result",
          "data": {
            "text/plain": [
              "[<matplotlib.lines.Line2D at 0x7f94ec0dabb0>]"
            ]
          },
          "metadata": {},
          "execution_count": 100
        },
        {
          "output_type": "stream",
          "name": "stdout",
          "text": [
            "currLoss 4032.907556040991\n",
            "deltaLoss 11.049181039315044\n",
            "weightUpdate -0.007156620420862586\n"
          ]
        },
        {
          "output_type": "execute_result",
          "data": {
            "text/plain": [
              "[<matplotlib.lines.Line2D at 0x7f94ec0dad90>]"
            ]
          },
          "metadata": {},
          "execution_count": 100
        },
        {
          "output_type": "stream",
          "name": "stdout",
          "text": [
            "currLoss 4021.8885707056925\n",
            "deltaLoss 11.018985335298566\n",
            "weightUpdate -0.007146839706287407\n"
          ]
        },
        {
          "output_type": "execute_result",
          "data": {
            "text/plain": [
              "[<matplotlib.lines.Line2D at 0x7f94ec066160>]"
            ]
          },
          "metadata": {},
          "execution_count": 100
        },
        {
          "output_type": "stream",
          "name": "stdout",
          "text": [
            "currLoss 4010.89969857505\n",
            "deltaLoss 10.988872130642449\n",
            "weightUpdate -0.007137072358688813\n"
          ]
        },
        {
          "output_type": "execute_result",
          "data": {
            "text/plain": [
              "[<matplotlib.lines.Line2D at 0x7f94ec066610>]"
            ]
          },
          "metadata": {},
          "execution_count": 100
        },
        {
          "output_type": "stream",
          "name": "stdout",
          "text": [
            "currLoss 3999.940857375073\n",
            "deltaLoss 10.958841199977087\n",
            "weightUpdate -0.0071273183597986055\n"
          ]
        },
        {
          "output_type": "execute_result",
          "data": {
            "text/plain": [
              "[<matplotlib.lines.Line2D at 0x7f94ec066970>]"
            ]
          },
          "metadata": {},
          "execution_count": 100
        },
        {
          "output_type": "stream",
          "name": "stdout",
          "text": [
            "currLoss 3989.011965056527\n",
            "deltaLoss 10.928892318545877\n",
            "weightUpdate -0.007117577691373547\n"
          ]
        },
        {
          "output_type": "execute_result",
          "data": {
            "text/plain": [
              "[<matplotlib.lines.Line2D at 0x7f94ec066cd0>]"
            ]
          },
          "metadata": {},
          "execution_count": 100
        },
        {
          "output_type": "stream",
          "name": "stdout",
          "text": [
            "currLoss 3978.112939794324\n",
            "deltaLoss 10.89902526220294\n",
            "weightUpdate -0.007107850335195338\n"
          ]
        },
        {
          "output_type": "execute_result",
          "data": {
            "text/plain": [
              "[<matplotlib.lines.Line2D at 0x7f94ec066ee0>]"
            ]
          },
          "metadata": {},
          "execution_count": 100
        },
        {
          "output_type": "stream",
          "name": "stdout",
          "text": [
            "currLoss 3967.2436999869046\n",
            "deltaLoss 10.86923980741949\n",
            "weightUpdate -0.007098136273070569\n"
          ]
        },
        {
          "output_type": "execute_result",
          "data": {
            "text/plain": [
              "[<matplotlib.lines.Line2D at 0x7f94ec0713d0>]"
            ]
          },
          "metadata": {},
          "execution_count": 100
        },
        {
          "output_type": "stream",
          "name": "stdout",
          "text": [
            "currLoss 3956.40416425563\n",
            "deltaLoss 10.839535731274736\n",
            "weightUpdate -0.0070884354868307065\n"
          ]
        },
        {
          "output_type": "execute_result",
          "data": {
            "text/plain": [
              "[<matplotlib.lines.Line2D at 0x7f94ec071730>]"
            ]
          },
          "metadata": {},
          "execution_count": 100
        },
        {
          "output_type": "stream",
          "name": "stdout",
          "text": [
            "currLoss 3945.5942514441736\n",
            "deltaLoss 10.809912811456343\n",
            "weightUpdate -0.007078747958332038\n"
          ]
        },
        {
          "output_type": "execute_result",
          "data": {
            "text/plain": [
              "[<matplotlib.lines.Line2D at 0x7f94ec071a90>]"
            ]
          },
          "metadata": {},
          "execution_count": 100
        },
        {
          "output_type": "stream",
          "name": "stdout",
          "text": [
            "currLoss 3934.813880617909\n",
            "deltaLoss 10.780370826264516\n",
            "weightUpdate -0.007069073669455651\n"
          ]
        },
        {
          "output_type": "execute_result",
          "data": {
            "text/plain": [
              "[<matplotlib.lines.Line2D at 0x7f94ec071c70>]"
            ]
          },
          "metadata": {},
          "execution_count": 100
        },
        {
          "output_type": "stream",
          "name": "stdout",
          "text": [
            "currLoss 3924.062971063314\n",
            "deltaLoss 10.750909554595182\n",
            "weightUpdate -0.007059412602107396\n"
          ]
        },
        {
          "output_type": "execute_result",
          "data": {
            "text/plain": [
              "[<matplotlib.lines.Line2D at 0x7f94ec07c040>]"
            ]
          },
          "metadata": {},
          "execution_count": 100
        },
        {
          "output_type": "stream",
          "name": "stdout",
          "text": [
            "currLoss 3913.3414422873548\n",
            "deltaLoss 10.721528775959086\n",
            "weightUpdate -0.007049764738217849\n"
          ]
        },
        {
          "output_type": "execute_result",
          "data": {
            "text/plain": [
              "[<matplotlib.lines.Line2D at 0x7f94ec07c4f0>]"
            ]
          },
          "metadata": {},
          "execution_count": 100
        },
        {
          "output_type": "stream",
          "name": "stdout",
          "text": [
            "currLoss 3902.6492140168953\n",
            "deltaLoss 10.692228270459509\n",
            "weightUpdate -0.007040130059742285\n"
          ]
        },
        {
          "output_type": "execute_result",
          "data": {
            "text/plain": [
              "[<matplotlib.lines.Line2D at 0x7f94ec07c850>]"
            ]
          },
          "metadata": {},
          "execution_count": 100
        },
        {
          "output_type": "stream",
          "name": "stdout",
          "text": [
            "currLoss 3891.986206198087\n",
            "deltaLoss 10.663007818808182\n",
            "weightUpdate -0.007030508548660637\n"
          ]
        },
        {
          "output_type": "execute_result",
          "data": {
            "text/plain": [
              "[<matplotlib.lines.Line2D at 0x7f94ec07cac0>]"
            ]
          },
          "metadata": {},
          "execution_count": 100
        },
        {
          "output_type": "stream",
          "name": "stdout",
          "text": [
            "currLoss 3881.3523389957754\n",
            "deltaLoss 10.633867202311649\n",
            "weightUpdate -0.007020900186977467\n"
          ]
        },
        {
          "output_type": "execute_result",
          "data": {
            "text/plain": [
              "[<matplotlib.lines.Line2D at 0x7f94ec07cdc0>]"
            ]
          },
          "metadata": {},
          "execution_count": 100
        },
        {
          "output_type": "stream",
          "name": "stdout",
          "text": [
            "currLoss 3870.7475327928987\n",
            "deltaLoss 10.604806202876716\n",
            "weightUpdate -0.007011304956721933\n"
          ]
        },
        {
          "output_type": "execute_result",
          "data": {
            "text/plain": [
              "[<matplotlib.lines.Line2D at 0x7f94ec0882b0>]"
            ]
          },
          "metadata": {},
          "execution_count": 100
        },
        {
          "output_type": "stream",
          "name": "stdout",
          "text": [
            "currLoss 3860.1717081898987\n",
            "deltaLoss 10.575824603000001\n",
            "weightUpdate -0.007001722839947745\n"
          ]
        },
        {
          "output_type": "execute_result",
          "data": {
            "text/plain": [
              "[<matplotlib.lines.Line2D at 0x7f94ec088610>]"
            ]
          },
          "metadata": {},
          "execution_count": 100
        },
        {
          "output_type": "stream",
          "name": "stdout",
          "text": [
            "currLoss 3849.6247860041153\n",
            "deltaLoss 10.546922185783387\n",
            "weightUpdate -0.006992153818733151\n"
          ]
        },
        {
          "output_type": "execute_result",
          "data": {
            "text/plain": [
              "[<matplotlib.lines.Line2D at 0x7f94ec088970>]"
            ]
          },
          "metadata": {},
          "execution_count": 100
        },
        {
          "output_type": "stream",
          "name": "stdout",
          "text": [
            "currLoss 3839.106687269211\n",
            "deltaLoss 10.51809873490447\n",
            "weightUpdate -0.006982597875180882\n"
          ]
        },
        {
          "output_type": "execute_result",
          "data": {
            "text/plain": [
              "[<matplotlib.lines.Line2D at 0x7f94ec088bb0>]"
            ]
          },
          "metadata": {},
          "execution_count": 100
        },
        {
          "output_type": "display_data",
          "data": {
            "text/plain": [
              "<Figure size 432x288 with 1 Axes>"
            ],
            "image/png": "[encoded data removed]"
          },
          "metadata": {}
        }
      ]
    },
    {
      "cell_type": "markdown",
      "metadata": {
        "id": "Z4ioadwsKlpE"
      },
      "source": [
        "##  Result with LR 0.00001\n"
      ]
    },
    {
      "cell_type": "code",
      "source": [
        "currLoss"
      ],
      "metadata": {
        "colab": {
          "base_uri": "https://localhost:8080/"
        },
        "outputId": "972c68c5-c206-4a6a-9b15-9774d1ab4d2d",
        "id": "ytfj9KG8KlpE"
      },
      "execution_count": 101,
      "outputs": [
        {
          "output_type": "execute_result",
          "data": {
            "text/plain": [
              "3839.106687269211"
            ]
          },
          "metadata": {},
          "execution_count": 101
        }
      ]
    },
    {
      "cell_type": "code",
      "source": [
        "deltaLoss"
      ],
      "metadata": {
        "colab": {
          "base_uri": "https://localhost:8080/"
        },
        "outputId": "e9e165bc-457c-4745-8ed4-6573c28aa54a",
        "id": "gem9p6L4KlpF"
      },
      "execution_count": 102,
      "outputs": [
        {
          "output_type": "execute_result",
          "data": {
            "text/plain": [
              "10.51809873490447"
            ]
          },
          "metadata": {},
          "execution_count": 102
        }
      ]
    },
    {
      "cell_type": "code",
      "source": [
        "itercount"
      ],
      "metadata": {
        "colab": {
          "base_uri": "https://localhost:8080/"
        },
        "outputId": "c741a8be-85b6-42e6-d58f-256f144b3b17",
        "id": "uOE1hGzgKlpG"
      },
      "execution_count": 103,
      "outputs": [
        {
          "output_type": "execute_result",
          "data": {
            "text/plain": [
              "200"
            ]
          },
          "metadata": {},
          "execution_count": 103
        }
      ]
    },
    {
      "cell_type": "code",
      "source": [
        "W"
      ],
      "metadata": {
        "colab": {
          "base_uri": "https://localhost:8080/"
        },
        "outputId": "e2b1613c-3072-43a1-e205-078ee04524eb",
        "id": "oYS54k3eKlpG"
      },
      "execution_count": 104,
      "outputs": [
        {
          "output_type": "execute_result",
          "data": {
            "text/plain": [
              "array([7.39491829, 4.39491829])"
            ]
          },
          "metadata": {},
          "execution_count": 104
        }
      ]
    },
    {
      "cell_type": "markdown",
      "source": [
        "- As can be seen in the graph above , the gradient descent algorithm was never able to reach the best fit line because the learning rate was too low i.e it could not converge\n",
        "- Each green line indicates one iteration\n",
        "- Vanilla Gradient descent took reached its maximum limit of iterartions which was 200 and had to exit\n",
        "- This demostrates how too low a learning rate can be prohibitive"
      ],
      "metadata": {
        "id": "IUjmIcRpKlpH"
      }
    },
    {
      "cell_type": "markdown",
      "metadata": {
        "id": "wVdJL6N8L34A"
      },
      "source": [
        "##  References\n",
        "- The following references were used while creating this notebook:\n",
        "\n",
        "- https://towardsdatascience.com/gradient-descent-from-scratch-e8b75fa986cc by Arseny Turin\n",
        "\n",
        "- Post Graduation AI/ML Study Material by GL/UAT\n"
      ]
    }
  ],
  "metadata": {
    "colab": {
      "provenance": [],
      "toc_visible": true
    },
    "kernelspec": {
      "display_name": "Python 3",
      "language": "python",
      "name": "python3"
    },
    "language_info": {
      "codemirror_mode": {
        "name": "ipython",
        "version": 3
      },
      "file_extension": ".py",
      "mimetype": "text/x-python",
      "name": "python",
      "nbconvert_exporter": "python",
      "pygments_lexer": "ipython3",
      "version": "3.8.3"
    },
    "gpuClass": "standard"
  },
  "nbformat": 4,
  "nbformat_minor": 0
}
